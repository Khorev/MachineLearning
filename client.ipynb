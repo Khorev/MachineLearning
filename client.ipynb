{
  "nbformat": 4,
  "nbformat_minor": 0,
  "metadata": {
    "colab": {
      "provenance": []
    },
    "kernelspec": {
      "name": "python3",
      "display_name": "Python 3"
    },
    "language_info": {
      "name": "python"
    }
  },
  "cells": [
    {
      "cell_type": "markdown",
      "source": [
        "# Клиентский файл"
      ],
      "metadata": {
        "id": "0noIT6H5cw1c"
      }
    },
    {
      "cell_type": "code",
      "source": [
        "import requests\n",
        "\n",
        "import urllib.request\n",
        "import json"
      ],
      "metadata": {
        "id": "ZbGJrA46cydQ"
      },
      "execution_count": 1,
      "outputs": []
    },
    {
      "cell_type": "code",
      "source": [
        "def send_json(body):\n",
        "    body = json.dumps(body)\n",
        "    myurl = 'http://451a-34-125-251-156.ngrok-free.app/' + '/predict'\n",
        "    headers = {'content-type': 'application/json; charset=utf-8'}\n",
        "    response = requests.post(myurl, json=body, headers=headers)\n",
        "\n",
        "    return response.json()['prediction']"
      ],
      "metadata": {
        "id": "syqHARyMc9um"
      },
      "execution_count": 10,
      "outputs": []
    },
    {
      "cell_type": "code",
      "source": [
        "body = {'age': 67,\t\n",
        "        'workclass': 'Private',\t\n",
        "        'fnlwgt': 366425,\n",
        "        'education': 'Doctorate',\n",
        "        'educational_num': 16,\t\n",
        "        'marital_status': 'Divorced',\t\n",
        "        'occupation': 'Exec-managerial',\n",
        "        'relationship': 'Not-in-family', \n",
        "        'race': 'White',\n",
        "        'gender': 'Male',\n",
        "        'capital_gain': 99999,\n",
        "        'capital_loss': 0,\n",
        "        'hours_per_week': 60,\n",
        "        'native_country': 'United-States'}\n",
        "\n",
        "response = send_json(body)\n",
        "print('Предсказание: ', response)"
      ],
      "metadata": {
        "id": "P9ikOVfSdNEB"
      },
      "execution_count": null,
      "outputs": []
    },
    {
      "cell_type": "code",
      "source": [
        "body = {'age': 17,\t\n",
        "        'workclass': 'Private',\t\n",
        "        'fnlwgt': 244602,\n",
        "        'education': '12th',\n",
        "        'educational_num': 8,\t\n",
        "        'marital_status': 'Never-married',\t\n",
        "        'occupation': 'Other-service',\n",
        "        'relationship': 'Own-child', \n",
        "        'race': 'White',\n",
        "        'gender': 'Male',\n",
        "        'capital_gain': 0,\n",
        "        'capital_loss': 0,\n",
        "        'hours_per_week': 15,\n",
        "        'native_country': 'United-States'}\n",
        "\n",
        "response = send_json(body)\n",
        "print('Предсказание: ', response)"
      ],
      "metadata": {
        "id": "DGWFsarJd3dI"
      },
      "execution_count": null,
      "outputs": []
    }
  ]
}