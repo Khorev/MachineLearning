{
  "cells": [
    {
      "cell_type": "markdown",
      "id": "27518238",
      "metadata": {
        "id": "27518238"
      },
      "source": [
        "# Интеграция. Итоговый проект."
      ]
    },
    {
      "cell_type": "code",
      "source": [
        "from google.colab import drive\n",
        "drive.mount('/content/drive')"
      ],
      "metadata": {
        "colab": {
          "base_uri": "https://localhost:8080/"
        },
        "id": "7gDSLi2kWgGv",
        "outputId": "97b6605f-2902-42e9-d2f8-cbbdfd88f76b"
      },
      "id": "7gDSLi2kWgGv",
      "execution_count": 2,
      "outputs": [
        {
          "output_type": "stream",
          "name": "stdout",
          "text": [
            "Drive already mounted at /content/drive; to attempt to forcibly remount, call drive.mount(\"/content/drive\", force_remount=True).\n"
          ]
        }
      ]
    },
    {
      "cell_type": "markdown",
      "id": "9e479ccd",
      "metadata": {
        "id": "9e479ccd"
      },
      "source": [
        "## Создание модели"
      ]
    },
    {
      "cell_type": "code",
      "execution_count": 3,
      "id": "28621b43",
      "metadata": {
        "id": "28621b43"
      },
      "outputs": [],
      "source": [
        "import pandas as pd\n",
        "import numpy as np\n",
        "\n",
        "import matplotlib.pyplot as plt\n",
        "%matplotlib inline\n",
        "import seaborn as sns\n",
        "\n",
        "from sklearn.model_selection import train_test_split\n",
        "\n",
        "from sklearn.compose import make_column_transformer\n",
        "from sklearn.pipeline import make_pipeline\n",
        "from sklearn.preprocessing import OneHotEncoder, OrdinalEncoder, RobustScaler\n",
        "\n",
        "from sklearn.ensemble import GradientBoostingClassifier\n",
        "\n",
        "from sklearn.model_selection import cross_val_score, GridSearchCV\n",
        "from sklearn.metrics import confusion_matrix\n",
        "\n",
        "import time\n",
        "import pickle"
      ]
    },
    {
      "cell_type": "code",
      "execution_count": 4,
      "id": "f3ab6f11",
      "metadata": {
        "id": "f3ab6f11"
      },
      "outputs": [],
      "source": [
        "def corr_matrix(data, features):\n",
        "    corr_matrix = np.round(data.loc[:, features].corr(), 2)\n",
        "    corr_matrix[np.abs(corr_matrix) < 0.1] = 0\n",
        "    \n",
        "    plt.figure(figsize = (9,7))\n",
        "    sns.heatmap(corr_matrix, annot=True, linewidths=.5, cmap='GnBu')\n",
        "    plt.title('Correlation matrix')\n",
        "    plt.show()"
      ]
    },
    {
      "cell_type": "markdown",
      "id": "1f282367",
      "metadata": {
        "id": "1f282367"
      },
      "source": [
        "## EDA"
      ]
    },
    {
      "cell_type": "markdown",
      "id": "cd9e64e8",
      "metadata": {
        "id": "cd9e64e8"
      },
      "source": [
        "Используются данные из соревнования kaggle https://www.kaggle.com/code/boopathymsse/income-prediction\n",
        "\n",
        "Смысл задачи: по косвенным признакам спрогнозировать возмжоность дохода более 50 000."
      ]
    },
    {
      "cell_type": "code",
      "execution_count": 7,
      "id": "084e8b37",
      "metadata": {
        "id": "084e8b37"
      },
      "outputs": [],
      "source": [
        "DATA_PATH = \"/content/drive/MyDrive/geekbrain/MLBuisness/lesson9/data/train.csv\""
      ]
    },
    {
      "cell_type": "code",
      "execution_count": 8,
      "id": "0971f48c",
      "metadata": {
        "colab": {
          "base_uri": "https://localhost:8080/",
          "height": 143
        },
        "id": "0971f48c",
        "outputId": "430617ca-8001-4cfc-8106-57b796dd3f70"
      },
      "outputs": [
        {
          "output_type": "execute_result",
          "data": {
            "text/plain": [
              "   age workclass  fnlwgt  education  educational-num      marital-status  \\\n",
              "0   67   Private  366425  Doctorate               16            Divorced   \n",
              "1   17   Private  244602       12th                8       Never-married   \n",
              "2   31   Private  174201  Bachelors               13  Married-civ-spouse   \n",
              "\n",
              "        occupation   relationship   race gender  capital-gain  capital-loss  \\\n",
              "0  Exec-managerial  Not-in-family  White   Male         99999             0   \n",
              "1    Other-service      Own-child  White   Male             0             0   \n",
              "2  Exec-managerial        Husband  White   Male             0             0   \n",
              "\n",
              "   hours-per-week native-country  income_>50K  \n",
              "0              60  United-States            1  \n",
              "1              15  United-States            0  \n",
              "2              40  United-States            1  "
            ],
            "text/html": [
              "\n",
              "  <div id=\"df-31eee659-ebb4-40f4-89a9-4bff6a9bceae\">\n",
              "    <div class=\"colab-df-container\">\n",
              "      <div>\n",
              "<style scoped>\n",
              "    .dataframe tbody tr th:only-of-type {\n",
              "        vertical-align: middle;\n",
              "    }\n",
              "\n",
              "    .dataframe tbody tr th {\n",
              "        vertical-align: top;\n",
              "    }\n",
              "\n",
              "    .dataframe thead th {\n",
              "        text-align: right;\n",
              "    }\n",
              "</style>\n",
              "<table border=\"1\" class=\"dataframe\">\n",
              "  <thead>\n",
              "    <tr style=\"text-align: right;\">\n",
              "      <th></th>\n",
              "      <th>age</th>\n",
              "      <th>workclass</th>\n",
              "      <th>fnlwgt</th>\n",
              "      <th>education</th>\n",
              "      <th>educational-num</th>\n",
              "      <th>marital-status</th>\n",
              "      <th>occupation</th>\n",
              "      <th>relationship</th>\n",
              "      <th>race</th>\n",
              "      <th>gender</th>\n",
              "      <th>capital-gain</th>\n",
              "      <th>capital-loss</th>\n",
              "      <th>hours-per-week</th>\n",
              "      <th>native-country</th>\n",
              "      <th>income_&gt;50K</th>\n",
              "    </tr>\n",
              "  </thead>\n",
              "  <tbody>\n",
              "    <tr>\n",
              "      <th>0</th>\n",
              "      <td>67</td>\n",
              "      <td>Private</td>\n",
              "      <td>366425</td>\n",
              "      <td>Doctorate</td>\n",
              "      <td>16</td>\n",
              "      <td>Divorced</td>\n",
              "      <td>Exec-managerial</td>\n",
              "      <td>Not-in-family</td>\n",
              "      <td>White</td>\n",
              "      <td>Male</td>\n",
              "      <td>99999</td>\n",
              "      <td>0</td>\n",
              "      <td>60</td>\n",
              "      <td>United-States</td>\n",
              "      <td>1</td>\n",
              "    </tr>\n",
              "    <tr>\n",
              "      <th>1</th>\n",
              "      <td>17</td>\n",
              "      <td>Private</td>\n",
              "      <td>244602</td>\n",
              "      <td>12th</td>\n",
              "      <td>8</td>\n",
              "      <td>Never-married</td>\n",
              "      <td>Other-service</td>\n",
              "      <td>Own-child</td>\n",
              "      <td>White</td>\n",
              "      <td>Male</td>\n",
              "      <td>0</td>\n",
              "      <td>0</td>\n",
              "      <td>15</td>\n",
              "      <td>United-States</td>\n",
              "      <td>0</td>\n",
              "    </tr>\n",
              "    <tr>\n",
              "      <th>2</th>\n",
              "      <td>31</td>\n",
              "      <td>Private</td>\n",
              "      <td>174201</td>\n",
              "      <td>Bachelors</td>\n",
              "      <td>13</td>\n",
              "      <td>Married-civ-spouse</td>\n",
              "      <td>Exec-managerial</td>\n",
              "      <td>Husband</td>\n",
              "      <td>White</td>\n",
              "      <td>Male</td>\n",
              "      <td>0</td>\n",
              "      <td>0</td>\n",
              "      <td>40</td>\n",
              "      <td>United-States</td>\n",
              "      <td>1</td>\n",
              "    </tr>\n",
              "  </tbody>\n",
              "</table>\n",
              "</div>\n",
              "      <button class=\"colab-df-convert\" onclick=\"convertToInteractive('df-31eee659-ebb4-40f4-89a9-4bff6a9bceae')\"\n",
              "              title=\"Convert this dataframe to an interactive table.\"\n",
              "              style=\"display:none;\">\n",
              "        \n",
              "  <svg xmlns=\"http://www.w3.org/2000/svg\" height=\"24px\"viewBox=\"0 0 24 24\"\n",
              "       width=\"24px\">\n",
              "    <path d=\"M0 0h24v24H0V0z\" fill=\"none\"/>\n",
              "    <path d=\"M18.56 5.44l.94 2.06.94-2.06 2.06-.94-2.06-.94-.94-2.06-.94 2.06-2.06.94zm-11 1L8.5 8.5l.94-2.06 2.06-.94-2.06-.94L8.5 2.5l-.94 2.06-2.06.94zm10 10l.94 2.06.94-2.06 2.06-.94-2.06-.94-.94-2.06-.94 2.06-2.06.94z\"/><path d=\"M17.41 7.96l-1.37-1.37c-.4-.4-.92-.59-1.43-.59-.52 0-1.04.2-1.43.59L10.3 9.45l-7.72 7.72c-.78.78-.78 2.05 0 2.83L4 21.41c.39.39.9.59 1.41.59.51 0 1.02-.2 1.41-.59l7.78-7.78 2.81-2.81c.8-.78.8-2.07 0-2.86zM5.41 20L4 18.59l7.72-7.72 1.47 1.35L5.41 20z\"/>\n",
              "  </svg>\n",
              "      </button>\n",
              "      \n",
              "  <style>\n",
              "    .colab-df-container {\n",
              "      display:flex;\n",
              "      flex-wrap:wrap;\n",
              "      gap: 12px;\n",
              "    }\n",
              "\n",
              "    .colab-df-convert {\n",
              "      background-color: #E8F0FE;\n",
              "      border: none;\n",
              "      border-radius: 50%;\n",
              "      cursor: pointer;\n",
              "      display: none;\n",
              "      fill: #1967D2;\n",
              "      height: 32px;\n",
              "      padding: 0 0 0 0;\n",
              "      width: 32px;\n",
              "    }\n",
              "\n",
              "    .colab-df-convert:hover {\n",
              "      background-color: #E2EBFA;\n",
              "      box-shadow: 0px 1px 2px rgba(60, 64, 67, 0.3), 0px 1px 3px 1px rgba(60, 64, 67, 0.15);\n",
              "      fill: #174EA6;\n",
              "    }\n",
              "\n",
              "    [theme=dark] .colab-df-convert {\n",
              "      background-color: #3B4455;\n",
              "      fill: #D2E3FC;\n",
              "    }\n",
              "\n",
              "    [theme=dark] .colab-df-convert:hover {\n",
              "      background-color: #434B5C;\n",
              "      box-shadow: 0px 1px 3px 1px rgba(0, 0, 0, 0.15);\n",
              "      filter: drop-shadow(0px 1px 2px rgba(0, 0, 0, 0.3));\n",
              "      fill: #FFFFFF;\n",
              "    }\n",
              "  </style>\n",
              "\n",
              "      <script>\n",
              "        const buttonEl =\n",
              "          document.querySelector('#df-31eee659-ebb4-40f4-89a9-4bff6a9bceae button.colab-df-convert');\n",
              "        buttonEl.style.display =\n",
              "          google.colab.kernel.accessAllowed ? 'block' : 'none';\n",
              "\n",
              "        async function convertToInteractive(key) {\n",
              "          const element = document.querySelector('#df-31eee659-ebb4-40f4-89a9-4bff6a9bceae');\n",
              "          const dataTable =\n",
              "            await google.colab.kernel.invokeFunction('convertToInteractive',\n",
              "                                                     [key], {});\n",
              "          if (!dataTable) return;\n",
              "\n",
              "          const docLinkHtml = 'Like what you see? Visit the ' +\n",
              "            '<a target=\"_blank\" href=https://colab.research.google.com/notebooks/data_table.ipynb>data table notebook</a>'\n",
              "            + ' to learn more about interactive tables.';\n",
              "          element.innerHTML = '';\n",
              "          dataTable['output_type'] = 'display_data';\n",
              "          await google.colab.output.renderOutput(dataTable, element);\n",
              "          const docLink = document.createElement('div');\n",
              "          docLink.innerHTML = docLinkHtml;\n",
              "          element.appendChild(docLink);\n",
              "        }\n",
              "      </script>\n",
              "    </div>\n",
              "  </div>\n",
              "  "
            ]
          },
          "metadata": {},
          "execution_count": 8
        }
      ],
      "source": [
        "df = pd.read_csv(DATA_PATH)\n",
        "df.head(3)"
      ]
    },
    {
      "cell_type": "code",
      "execution_count": 9,
      "id": "63519873",
      "metadata": {
        "id": "63519873"
      },
      "outputs": [],
      "source": [
        "df.dropna(inplace=True)"
      ]
    },
    {
      "cell_type": "code",
      "execution_count": 10,
      "id": "e1423573",
      "metadata": {
        "id": "e1423573"
      },
      "outputs": [],
      "source": [
        "X = df[['age', 'workclass', 'fnlwgt', 'education', 'educational-num',\n",
        "       'marital-status', 'occupation', 'relationship', 'race', 'gender',\n",
        "       'capital-gain', 'capital-loss', 'hours-per-week', 'native-country']]\n",
        "y = df['income_>50K']"
      ]
    },
    {
      "cell_type": "code",
      "execution_count": 11,
      "id": "e2c083a9",
      "metadata": {
        "id": "e2c083a9"
      },
      "outputs": [],
      "source": [
        "num_features = ['age', 'fnlwgt', 'capital-gain', 'capital-loss', 'hours-per-week']\n",
        "\n",
        "oe_features = ['education']\n",
        "education_prio = ['Preschool', '1st-4th', '5th-6th', '7th-8th', '9th', '10th', '11th', '12th', \\\n",
        "                  'HS-grad', 'Prof-school', 'Assoc-acdm', 'Assoc-voc', \\\n",
        "                  'Some-college', 'Bachelors', 'Masters', 'Doctorate']\n",
        "\n",
        "ohe_features = ['workclass', 'marital-status', 'occupation', 'relationship', \\\n",
        "                'race', 'gender', 'native-country']\n",
        "\n",
        "columns_with_nan = ['workclass', 'occupation', 'native-country']"
      ]
    },
    {
      "cell_type": "code",
      "execution_count": 12,
      "id": "0e41bd90",
      "metadata": {
        "id": "0e41bd90"
      },
      "outputs": [],
      "source": [
        "X_train, X_test, y_train, y_test = train_test_split(X, y, random_state=42, test_size=0.2)"
      ]
    },
    {
      "cell_type": "markdown",
      "id": "e783b166",
      "metadata": {
        "id": "e783b166"
      },
      "source": [
        "## Описание трансформатора(модификатора) данных с учетом особенностей столбцев"
      ]
    },
    {
      "cell_type": "code",
      "execution_count": 13,
      "id": "ecf0cb88",
      "metadata": {
        "id": "ecf0cb88"
      },
      "outputs": [],
      "source": [
        "rs = RobustScaler()\n",
        "oe = OrdinalEncoder(categories=[education_prio])\n",
        "ohe = OneHotEncoder(sparse=False, handle_unknown='ignore')\n",
        "\n",
        "ct = make_column_transformer((rs, num_features),\n",
        "                             (oe, oe_features),\n",
        "                             (ohe, ohe_features),\n",
        "                             remainder='passthrough')"
      ]
    },
    {
      "cell_type": "markdown",
      "id": "68b23d4b",
      "metadata": {
        "id": "68b23d4b"
      },
      "source": [
        "## Создание экземпляра трансформатора"
      ]
    },
    {
      "cell_type": "code",
      "execution_count": 14,
      "id": "f5ab81a2",
      "metadata": {
        "colab": {
          "base_uri": "https://localhost:8080/",
          "height": 460
        },
        "id": "f5ab81a2",
        "outputId": "1efdf42c-2913-4e1d-c77c-aea159eb832b"
      },
      "outputs": [
        {
          "output_type": "stream",
          "name": "stderr",
          "text": [
            "/usr/local/lib/python3.9/dist-packages/sklearn/preprocessing/_encoders.py:868: FutureWarning: `sparse` was renamed to `sparse_output` in version 1.2 and will be removed in 1.4. `sparse_output` is ignored unless you leave `sparse` to its default value.\n",
            "  warnings.warn(\n"
          ]
        },
        {
          "output_type": "execute_result",
          "data": {
            "text/plain": [
              "             0         1        2    3    4     5    6    7    8    9   ...  \\\n",
              "0      1.578947  1.557604  99999.0  0.0  4.0  15.0  0.0  0.0  1.0  0.0  ...   \n",
              "1     -1.052632  0.549052      0.0  0.0 -5.0   7.0  0.0  0.0  1.0  0.0  ...   \n",
              "2     -0.315789 -0.033786      0.0  0.0  0.0  13.0  0.0  0.0  1.0  0.0  ...   \n",
              "3      1.105263 -0.563648      0.0  0.0  0.0   3.0  0.0  0.0  0.0  0.0  ...   \n",
              "4     -0.631579 -0.240368      0.0  0.0  0.0  12.0  0.0  0.0  0.0  0.0  ...   \n",
              "...         ...       ...      ...  ...  ...   ...  ...  ...  ...  ...  ...   \n",
              "40722  0.789474 -0.904876      0.0  0.0  2.0  13.0  0.0  0.0  1.0  0.0  ...   \n",
              "40723 -0.947368 -0.510969      0.0  0.0  0.0   8.0  0.0  0.0  1.0  0.0  ...   \n",
              "40724 -0.368421  0.162803      0.0  0.0  3.6  12.0  0.0  0.0  1.0  0.0  ...   \n",
              "40725  0.473684 -0.665610      0.0  0.0 -1.0  13.0  0.0  0.0  1.0  0.0  ...   \n",
              "40726 -0.368421  1.635442      0.0  0.0  0.0   8.0  0.0  0.0  1.0  0.0  ...   \n",
              "\n",
              "        80   81   82   83   84   85   86   87    88   89  \n",
              "0      0.0  0.0  0.0  0.0  0.0  1.0  0.0  0.0  16.0  1.0  \n",
              "1      0.0  0.0  0.0  0.0  0.0  1.0  0.0  0.0   8.0  0.0  \n",
              "2      0.0  0.0  0.0  0.0  0.0  1.0  0.0  0.0  13.0  1.0  \n",
              "3      0.0  0.0  0.0  0.0  0.0  1.0  0.0  0.0   4.0  0.0  \n",
              "4      0.0  0.0  0.0  0.0  0.0  1.0  0.0  0.0  10.0  0.0  \n",
              "...    ...  ...  ...  ...  ...  ...  ...  ...   ...  ...  \n",
              "40722  0.0  0.0  0.0  0.0  0.0  1.0  0.0  0.0  13.0  1.0  \n",
              "40723  0.0  0.0  0.0  0.0  0.0  1.0  0.0  0.0   9.0  0.0  \n",
              "40724  0.0  0.0  0.0  0.0  0.0  1.0  0.0  0.0  10.0  0.0  \n",
              "40725  0.0  0.0  0.0  0.0  0.0  1.0  0.0  0.0  13.0  0.0  \n",
              "40726  0.0  0.0  0.0  0.0  0.0  1.0  0.0  0.0   9.0  0.0  \n",
              "\n",
              "[40727 rows x 90 columns]"
            ],
            "text/html": [
              "\n",
              "  <div id=\"df-e8c0dcfa-2419-449b-9f4c-287f074516ac\">\n",
              "    <div class=\"colab-df-container\">\n",
              "      <div>\n",
              "<style scoped>\n",
              "    .dataframe tbody tr th:only-of-type {\n",
              "        vertical-align: middle;\n",
              "    }\n",
              "\n",
              "    .dataframe tbody tr th {\n",
              "        vertical-align: top;\n",
              "    }\n",
              "\n",
              "    .dataframe thead th {\n",
              "        text-align: right;\n",
              "    }\n",
              "</style>\n",
              "<table border=\"1\" class=\"dataframe\">\n",
              "  <thead>\n",
              "    <tr style=\"text-align: right;\">\n",
              "      <th></th>\n",
              "      <th>0</th>\n",
              "      <th>1</th>\n",
              "      <th>2</th>\n",
              "      <th>3</th>\n",
              "      <th>4</th>\n",
              "      <th>5</th>\n",
              "      <th>6</th>\n",
              "      <th>7</th>\n",
              "      <th>8</th>\n",
              "      <th>9</th>\n",
              "      <th>...</th>\n",
              "      <th>80</th>\n",
              "      <th>81</th>\n",
              "      <th>82</th>\n",
              "      <th>83</th>\n",
              "      <th>84</th>\n",
              "      <th>85</th>\n",
              "      <th>86</th>\n",
              "      <th>87</th>\n",
              "      <th>88</th>\n",
              "      <th>89</th>\n",
              "    </tr>\n",
              "  </thead>\n",
              "  <tbody>\n",
              "    <tr>\n",
              "      <th>0</th>\n",
              "      <td>1.578947</td>\n",
              "      <td>1.557604</td>\n",
              "      <td>99999.0</td>\n",
              "      <td>0.0</td>\n",
              "      <td>4.0</td>\n",
              "      <td>15.0</td>\n",
              "      <td>0.0</td>\n",
              "      <td>0.0</td>\n",
              "      <td>1.0</td>\n",
              "      <td>0.0</td>\n",
              "      <td>...</td>\n",
              "      <td>0.0</td>\n",
              "      <td>0.0</td>\n",
              "      <td>0.0</td>\n",
              "      <td>0.0</td>\n",
              "      <td>0.0</td>\n",
              "      <td>1.0</td>\n",
              "      <td>0.0</td>\n",
              "      <td>0.0</td>\n",
              "      <td>16.0</td>\n",
              "      <td>1.0</td>\n",
              "    </tr>\n",
              "    <tr>\n",
              "      <th>1</th>\n",
              "      <td>-1.052632</td>\n",
              "      <td>0.549052</td>\n",
              "      <td>0.0</td>\n",
              "      <td>0.0</td>\n",
              "      <td>-5.0</td>\n",
              "      <td>7.0</td>\n",
              "      <td>0.0</td>\n",
              "      <td>0.0</td>\n",
              "      <td>1.0</td>\n",
              "      <td>0.0</td>\n",
              "      <td>...</td>\n",
              "      <td>0.0</td>\n",
              "      <td>0.0</td>\n",
              "      <td>0.0</td>\n",
              "      <td>0.0</td>\n",
              "      <td>0.0</td>\n",
              "      <td>1.0</td>\n",
              "      <td>0.0</td>\n",
              "      <td>0.0</td>\n",
              "      <td>8.0</td>\n",
              "      <td>0.0</td>\n",
              "    </tr>\n",
              "    <tr>\n",
              "      <th>2</th>\n",
              "      <td>-0.315789</td>\n",
              "      <td>-0.033786</td>\n",
              "      <td>0.0</td>\n",
              "      <td>0.0</td>\n",
              "      <td>0.0</td>\n",
              "      <td>13.0</td>\n",
              "      <td>0.0</td>\n",
              "      <td>0.0</td>\n",
              "      <td>1.0</td>\n",
              "      <td>0.0</td>\n",
              "      <td>...</td>\n",
              "      <td>0.0</td>\n",
              "      <td>0.0</td>\n",
              "      <td>0.0</td>\n",
              "      <td>0.0</td>\n",
              "      <td>0.0</td>\n",
              "      <td>1.0</td>\n",
              "      <td>0.0</td>\n",
              "      <td>0.0</td>\n",
              "      <td>13.0</td>\n",
              "      <td>1.0</td>\n",
              "    </tr>\n",
              "    <tr>\n",
              "      <th>3</th>\n",
              "      <td>1.105263</td>\n",
              "      <td>-0.563648</td>\n",
              "      <td>0.0</td>\n",
              "      <td>0.0</td>\n",
              "      <td>0.0</td>\n",
              "      <td>3.0</td>\n",
              "      <td>0.0</td>\n",
              "      <td>0.0</td>\n",
              "      <td>0.0</td>\n",
              "      <td>0.0</td>\n",
              "      <td>...</td>\n",
              "      <td>0.0</td>\n",
              "      <td>0.0</td>\n",
              "      <td>0.0</td>\n",
              "      <td>0.0</td>\n",
              "      <td>0.0</td>\n",
              "      <td>1.0</td>\n",
              "      <td>0.0</td>\n",
              "      <td>0.0</td>\n",
              "      <td>4.0</td>\n",
              "      <td>0.0</td>\n",
              "    </tr>\n",
              "    <tr>\n",
              "      <th>4</th>\n",
              "      <td>-0.631579</td>\n",
              "      <td>-0.240368</td>\n",
              "      <td>0.0</td>\n",
              "      <td>0.0</td>\n",
              "      <td>0.0</td>\n",
              "      <td>12.0</td>\n",
              "      <td>0.0</td>\n",
              "      <td>0.0</td>\n",
              "      <td>0.0</td>\n",
              "      <td>0.0</td>\n",
              "      <td>...</td>\n",
              "      <td>0.0</td>\n",
              "      <td>0.0</td>\n",
              "      <td>0.0</td>\n",
              "      <td>0.0</td>\n",
              "      <td>0.0</td>\n",
              "      <td>1.0</td>\n",
              "      <td>0.0</td>\n",
              "      <td>0.0</td>\n",
              "      <td>10.0</td>\n",
              "      <td>0.0</td>\n",
              "    </tr>\n",
              "    <tr>\n",
              "      <th>...</th>\n",
              "      <td>...</td>\n",
              "      <td>...</td>\n",
              "      <td>...</td>\n",
              "      <td>...</td>\n",
              "      <td>...</td>\n",
              "      <td>...</td>\n",
              "      <td>...</td>\n",
              "      <td>...</td>\n",
              "      <td>...</td>\n",
              "      <td>...</td>\n",
              "      <td>...</td>\n",
              "      <td>...</td>\n",
              "      <td>...</td>\n",
              "      <td>...</td>\n",
              "      <td>...</td>\n",
              "      <td>...</td>\n",
              "      <td>...</td>\n",
              "      <td>...</td>\n",
              "      <td>...</td>\n",
              "      <td>...</td>\n",
              "      <td>...</td>\n",
              "    </tr>\n",
              "    <tr>\n",
              "      <th>40722</th>\n",
              "      <td>0.789474</td>\n",
              "      <td>-0.904876</td>\n",
              "      <td>0.0</td>\n",
              "      <td>0.0</td>\n",
              "      <td>2.0</td>\n",
              "      <td>13.0</td>\n",
              "      <td>0.0</td>\n",
              "      <td>0.0</td>\n",
              "      <td>1.0</td>\n",
              "      <td>0.0</td>\n",
              "      <td>...</td>\n",
              "      <td>0.0</td>\n",
              "      <td>0.0</td>\n",
              "      <td>0.0</td>\n",
              "      <td>0.0</td>\n",
              "      <td>0.0</td>\n",
              "      <td>1.0</td>\n",
              "      <td>0.0</td>\n",
              "      <td>0.0</td>\n",
              "      <td>13.0</td>\n",
              "      <td>1.0</td>\n",
              "    </tr>\n",
              "    <tr>\n",
              "      <th>40723</th>\n",
              "      <td>-0.947368</td>\n",
              "      <td>-0.510969</td>\n",
              "      <td>0.0</td>\n",
              "      <td>0.0</td>\n",
              "      <td>0.0</td>\n",
              "      <td>8.0</td>\n",
              "      <td>0.0</td>\n",
              "      <td>0.0</td>\n",
              "      <td>1.0</td>\n",
              "      <td>0.0</td>\n",
              "      <td>...</td>\n",
              "      <td>0.0</td>\n",
              "      <td>0.0</td>\n",
              "      <td>0.0</td>\n",
              "      <td>0.0</td>\n",
              "      <td>0.0</td>\n",
              "      <td>1.0</td>\n",
              "      <td>0.0</td>\n",
              "      <td>0.0</td>\n",
              "      <td>9.0</td>\n",
              "      <td>0.0</td>\n",
              "    </tr>\n",
              "    <tr>\n",
              "      <th>40724</th>\n",
              "      <td>-0.368421</td>\n",
              "      <td>0.162803</td>\n",
              "      <td>0.0</td>\n",
              "      <td>0.0</td>\n",
              "      <td>3.6</td>\n",
              "      <td>12.0</td>\n",
              "      <td>0.0</td>\n",
              "      <td>0.0</td>\n",
              "      <td>1.0</td>\n",
              "      <td>0.0</td>\n",
              "      <td>...</td>\n",
              "      <td>0.0</td>\n",
              "      <td>0.0</td>\n",
              "      <td>0.0</td>\n",
              "      <td>0.0</td>\n",
              "      <td>0.0</td>\n",
              "      <td>1.0</td>\n",
              "      <td>0.0</td>\n",
              "      <td>0.0</td>\n",
              "      <td>10.0</td>\n",
              "      <td>0.0</td>\n",
              "    </tr>\n",
              "    <tr>\n",
              "      <th>40725</th>\n",
              "      <td>0.473684</td>\n",
              "      <td>-0.665610</td>\n",
              "      <td>0.0</td>\n",
              "      <td>0.0</td>\n",
              "      <td>-1.0</td>\n",
              "      <td>13.0</td>\n",
              "      <td>0.0</td>\n",
              "      <td>0.0</td>\n",
              "      <td>1.0</td>\n",
              "      <td>0.0</td>\n",
              "      <td>...</td>\n",
              "      <td>0.0</td>\n",
              "      <td>0.0</td>\n",
              "      <td>0.0</td>\n",
              "      <td>0.0</td>\n",
              "      <td>0.0</td>\n",
              "      <td>1.0</td>\n",
              "      <td>0.0</td>\n",
              "      <td>0.0</td>\n",
              "      <td>13.0</td>\n",
              "      <td>0.0</td>\n",
              "    </tr>\n",
              "    <tr>\n",
              "      <th>40726</th>\n",
              "      <td>-0.368421</td>\n",
              "      <td>1.635442</td>\n",
              "      <td>0.0</td>\n",
              "      <td>0.0</td>\n",
              "      <td>0.0</td>\n",
              "      <td>8.0</td>\n",
              "      <td>0.0</td>\n",
              "      <td>0.0</td>\n",
              "      <td>1.0</td>\n",
              "      <td>0.0</td>\n",
              "      <td>...</td>\n",
              "      <td>0.0</td>\n",
              "      <td>0.0</td>\n",
              "      <td>0.0</td>\n",
              "      <td>0.0</td>\n",
              "      <td>0.0</td>\n",
              "      <td>1.0</td>\n",
              "      <td>0.0</td>\n",
              "      <td>0.0</td>\n",
              "      <td>9.0</td>\n",
              "      <td>0.0</td>\n",
              "    </tr>\n",
              "  </tbody>\n",
              "</table>\n",
              "<p>40727 rows × 90 columns</p>\n",
              "</div>\n",
              "      <button class=\"colab-df-convert\" onclick=\"convertToInteractive('df-e8c0dcfa-2419-449b-9f4c-287f074516ac')\"\n",
              "              title=\"Convert this dataframe to an interactive table.\"\n",
              "              style=\"display:none;\">\n",
              "        \n",
              "  <svg xmlns=\"http://www.w3.org/2000/svg\" height=\"24px\"viewBox=\"0 0 24 24\"\n",
              "       width=\"24px\">\n",
              "    <path d=\"M0 0h24v24H0V0z\" fill=\"none\"/>\n",
              "    <path d=\"M18.56 5.44l.94 2.06.94-2.06 2.06-.94-2.06-.94-.94-2.06-.94 2.06-2.06.94zm-11 1L8.5 8.5l.94-2.06 2.06-.94-2.06-.94L8.5 2.5l-.94 2.06-2.06.94zm10 10l.94 2.06.94-2.06 2.06-.94-2.06-.94-.94-2.06-.94 2.06-2.06.94z\"/><path d=\"M17.41 7.96l-1.37-1.37c-.4-.4-.92-.59-1.43-.59-.52 0-1.04.2-1.43.59L10.3 9.45l-7.72 7.72c-.78.78-.78 2.05 0 2.83L4 21.41c.39.39.9.59 1.41.59.51 0 1.02-.2 1.41-.59l7.78-7.78 2.81-2.81c.8-.78.8-2.07 0-2.86zM5.41 20L4 18.59l7.72-7.72 1.47 1.35L5.41 20z\"/>\n",
              "  </svg>\n",
              "      </button>\n",
              "      \n",
              "  <style>\n",
              "    .colab-df-container {\n",
              "      display:flex;\n",
              "      flex-wrap:wrap;\n",
              "      gap: 12px;\n",
              "    }\n",
              "\n",
              "    .colab-df-convert {\n",
              "      background-color: #E8F0FE;\n",
              "      border: none;\n",
              "      border-radius: 50%;\n",
              "      cursor: pointer;\n",
              "      display: none;\n",
              "      fill: #1967D2;\n",
              "      height: 32px;\n",
              "      padding: 0 0 0 0;\n",
              "      width: 32px;\n",
              "    }\n",
              "\n",
              "    .colab-df-convert:hover {\n",
              "      background-color: #E2EBFA;\n",
              "      box-shadow: 0px 1px 2px rgba(60, 64, 67, 0.3), 0px 1px 3px 1px rgba(60, 64, 67, 0.15);\n",
              "      fill: #174EA6;\n",
              "    }\n",
              "\n",
              "    [theme=dark] .colab-df-convert {\n",
              "      background-color: #3B4455;\n",
              "      fill: #D2E3FC;\n",
              "    }\n",
              "\n",
              "    [theme=dark] .colab-df-convert:hover {\n",
              "      background-color: #434B5C;\n",
              "      box-shadow: 0px 1px 3px 1px rgba(0, 0, 0, 0.15);\n",
              "      filter: drop-shadow(0px 1px 2px rgba(0, 0, 0, 0.3));\n",
              "      fill: #FFFFFF;\n",
              "    }\n",
              "  </style>\n",
              "\n",
              "      <script>\n",
              "        const buttonEl =\n",
              "          document.querySelector('#df-e8c0dcfa-2419-449b-9f4c-287f074516ac button.colab-df-convert');\n",
              "        buttonEl.style.display =\n",
              "          google.colab.kernel.accessAllowed ? 'block' : 'none';\n",
              "\n",
              "        async function convertToInteractive(key) {\n",
              "          const element = document.querySelector('#df-e8c0dcfa-2419-449b-9f4c-287f074516ac');\n",
              "          const dataTable =\n",
              "            await google.colab.kernel.invokeFunction('convertToInteractive',\n",
              "                                                     [key], {});\n",
              "          if (!dataTable) return;\n",
              "\n",
              "          const docLinkHtml = 'Like what you see? Visit the ' +\n",
              "            '<a target=\"_blank\" href=https://colab.research.google.com/notebooks/data_table.ipynb>data table notebook</a>'\n",
              "            + ' to learn more about interactive tables.';\n",
              "          element.innerHTML = '';\n",
              "          dataTable['output_type'] = 'display_data';\n",
              "          await google.colab.output.renderOutput(dataTable, element);\n",
              "          const docLink = document.createElement('div');\n",
              "          docLink.innerHTML = docLinkHtml;\n",
              "          element.appendChild(docLink);\n",
              "        }\n",
              "      </script>\n",
              "    </div>\n",
              "  </div>\n",
              "  "
            ]
          },
          "metadata": {},
          "execution_count": 14
        }
      ],
      "source": [
        "df_trans = ct.fit_transform(df)\n",
        "df_trans = pd.DataFrame(df_trans)\n",
        "df_trans"
      ]
    },
    {
      "cell_type": "markdown",
      "id": "b5719438",
      "metadata": {
        "id": "b5719438"
      },
      "source": [
        "## Во время преобразований имена столбцов меняются, поэтому нам нужно выяснить, как были изменены имена"
      ]
    },
    {
      "cell_type": "code",
      "execution_count": 15,
      "id": "029f4f95",
      "metadata": {
        "colab": {
          "base_uri": "https://localhost:8080/"
        },
        "id": "029f4f95",
        "outputId": "88a44ee0-1f93-4031-e5b5-e6d82f188679"
      },
      "outputs": [
        {
          "output_type": "execute_result",
          "data": {
            "text/plain": [
              "[('robustscaler',\n",
              "  RobustScaler(),\n",
              "  ['age', 'fnlwgt', 'capital-gain', 'capital-loss', 'hours-per-week']),\n",
              " ('ordinalencoder',\n",
              "  OrdinalEncoder(categories=[['Preschool', '1st-4th', '5th-6th', '7th-8th', '9th',\n",
              "                              '10th', '11th', '12th', 'HS-grad', 'Prof-school',\n",
              "                              'Assoc-acdm', 'Assoc-voc', 'Some-college',\n",
              "                              'Bachelors', 'Masters', 'Doctorate']]),\n",
              "  ['education']),\n",
              " ('onehotencoder',\n",
              "  OneHotEncoder(handle_unknown='ignore', sparse=False, sparse_output=False),\n",
              "  ['workclass',\n",
              "   'marital-status',\n",
              "   'occupation',\n",
              "   'relationship',\n",
              "   'race',\n",
              "   'gender',\n",
              "   'native-country']),\n",
              " ('remainder', 'passthrough', [4, 14])]"
            ]
          },
          "metadata": {},
          "execution_count": 15
        }
      ],
      "source": [
        "ct.transformers_"
      ]
    },
    {
      "cell_type": "code",
      "execution_count": 16,
      "id": "9781aed0",
      "metadata": {
        "colab": {
          "base_uri": "https://localhost:8080/"
        },
        "id": "9781aed0",
        "outputId": "1c6a5123-f6d6-4aa3-8920-08a112a29223"
      },
      "outputs": [
        {
          "output_type": "execute_result",
          "data": {
            "text/plain": [
              "array(['age', 'fnlwgt', 'capital-gain', 'capital-loss', 'hours-per-week'],\n",
              "      dtype=object)"
            ]
          },
          "metadata": {},
          "execution_count": 16
        }
      ],
      "source": [
        "ct.transformers_[0][1].get_feature_names_out()"
      ]
    },
    {
      "cell_type": "code",
      "execution_count": 17,
      "id": "b78af1f5",
      "metadata": {
        "colab": {
          "base_uri": "https://localhost:8080/",
          "height": 126
        },
        "id": "b78af1f5",
        "outputId": "58f80578-5188-449f-bacd-281dac98ce57"
      },
      "outputs": [
        {
          "output_type": "execute_result",
          "data": {
            "text/plain": [
              "OrdinalEncoder(categories=[['Preschool', '1st-4th', '5th-6th', '7th-8th', '9th',\n",
              "                            '10th', '11th', '12th', 'HS-grad', 'Prof-school',\n",
              "                            'Assoc-acdm', 'Assoc-voc', 'Some-college',\n",
              "                            'Bachelors', 'Masters', 'Doctorate']])"
            ],
            "text/html": [
              "<style>#sk-container-id-1 {color: black;background-color: white;}#sk-container-id-1 pre{padding: 0;}#sk-container-id-1 div.sk-toggleable {background-color: white;}#sk-container-id-1 label.sk-toggleable__label {cursor: pointer;display: block;width: 100%;margin-bottom: 0;padding: 0.3em;box-sizing: border-box;text-align: center;}#sk-container-id-1 label.sk-toggleable__label-arrow:before {content: \"▸\";float: left;margin-right: 0.25em;color: #696969;}#sk-container-id-1 label.sk-toggleable__label-arrow:hover:before {color: black;}#sk-container-id-1 div.sk-estimator:hover label.sk-toggleable__label-arrow:before {color: black;}#sk-container-id-1 div.sk-toggleable__content {max-height: 0;max-width: 0;overflow: hidden;text-align: left;background-color: #f0f8ff;}#sk-container-id-1 div.sk-toggleable__content pre {margin: 0.2em;color: black;border-radius: 0.25em;background-color: #f0f8ff;}#sk-container-id-1 input.sk-toggleable__control:checked~div.sk-toggleable__content {max-height: 200px;max-width: 100%;overflow: auto;}#sk-container-id-1 input.sk-toggleable__control:checked~label.sk-toggleable__label-arrow:before {content: \"▾\";}#sk-container-id-1 div.sk-estimator input.sk-toggleable__control:checked~label.sk-toggleable__label {background-color: #d4ebff;}#sk-container-id-1 div.sk-label input.sk-toggleable__control:checked~label.sk-toggleable__label {background-color: #d4ebff;}#sk-container-id-1 input.sk-hidden--visually {border: 0;clip: rect(1px 1px 1px 1px);clip: rect(1px, 1px, 1px, 1px);height: 1px;margin: -1px;overflow: hidden;padding: 0;position: absolute;width: 1px;}#sk-container-id-1 div.sk-estimator {font-family: monospace;background-color: #f0f8ff;border: 1px dotted black;border-radius: 0.25em;box-sizing: border-box;margin-bottom: 0.5em;}#sk-container-id-1 div.sk-estimator:hover {background-color: #d4ebff;}#sk-container-id-1 div.sk-parallel-item::after {content: \"\";width: 100%;border-bottom: 1px solid gray;flex-grow: 1;}#sk-container-id-1 div.sk-label:hover label.sk-toggleable__label {background-color: #d4ebff;}#sk-container-id-1 div.sk-serial::before {content: \"\";position: absolute;border-left: 1px solid gray;box-sizing: border-box;top: 0;bottom: 0;left: 50%;z-index: 0;}#sk-container-id-1 div.sk-serial {display: flex;flex-direction: column;align-items: center;background-color: white;padding-right: 0.2em;padding-left: 0.2em;position: relative;}#sk-container-id-1 div.sk-item {position: relative;z-index: 1;}#sk-container-id-1 div.sk-parallel {display: flex;align-items: stretch;justify-content: center;background-color: white;position: relative;}#sk-container-id-1 div.sk-item::before, #sk-container-id-1 div.sk-parallel-item::before {content: \"\";position: absolute;border-left: 1px solid gray;box-sizing: border-box;top: 0;bottom: 0;left: 50%;z-index: -1;}#sk-container-id-1 div.sk-parallel-item {display: flex;flex-direction: column;z-index: 1;position: relative;background-color: white;}#sk-container-id-1 div.sk-parallel-item:first-child::after {align-self: flex-end;width: 50%;}#sk-container-id-1 div.sk-parallel-item:last-child::after {align-self: flex-start;width: 50%;}#sk-container-id-1 div.sk-parallel-item:only-child::after {width: 0;}#sk-container-id-1 div.sk-dashed-wrapped {border: 1px dashed gray;margin: 0 0.4em 0.5em 0.4em;box-sizing: border-box;padding-bottom: 0.4em;background-color: white;}#sk-container-id-1 div.sk-label label {font-family: monospace;font-weight: bold;display: inline-block;line-height: 1.2em;}#sk-container-id-1 div.sk-label-container {text-align: center;}#sk-container-id-1 div.sk-container {/* jupyter's `normalize.less` sets `[hidden] { display: none; }` but bootstrap.min.css set `[hidden] { display: none !important; }` so we also need the `!important` here to be able to override the default hidden behavior on the sphinx rendered scikit-learn.org. See: https://github.com/scikit-learn/scikit-learn/issues/21755 */display: inline-block !important;position: relative;}#sk-container-id-1 div.sk-text-repr-fallback {display: none;}</style><div id=\"sk-container-id-1\" class=\"sk-top-container\"><div class=\"sk-text-repr-fallback\"><pre>OrdinalEncoder(categories=[[&#x27;Preschool&#x27;, &#x27;1st-4th&#x27;, &#x27;5th-6th&#x27;, &#x27;7th-8th&#x27;, &#x27;9th&#x27;,\n",
              "                            &#x27;10th&#x27;, &#x27;11th&#x27;, &#x27;12th&#x27;, &#x27;HS-grad&#x27;, &#x27;Prof-school&#x27;,\n",
              "                            &#x27;Assoc-acdm&#x27;, &#x27;Assoc-voc&#x27;, &#x27;Some-college&#x27;,\n",
              "                            &#x27;Bachelors&#x27;, &#x27;Masters&#x27;, &#x27;Doctorate&#x27;]])</pre><b>In a Jupyter environment, please rerun this cell to show the HTML representation or trust the notebook. <br />On GitHub, the HTML representation is unable to render, please try loading this page with nbviewer.org.</b></div><div class=\"sk-container\" hidden><div class=\"sk-item\"><div class=\"sk-estimator sk-toggleable\"><input class=\"sk-toggleable__control sk-hidden--visually\" id=\"sk-estimator-id-1\" type=\"checkbox\" checked><label for=\"sk-estimator-id-1\" class=\"sk-toggleable__label sk-toggleable__label-arrow\">OrdinalEncoder</label><div class=\"sk-toggleable__content\"><pre>OrdinalEncoder(categories=[[&#x27;Preschool&#x27;, &#x27;1st-4th&#x27;, &#x27;5th-6th&#x27;, &#x27;7th-8th&#x27;, &#x27;9th&#x27;,\n",
              "                            &#x27;10th&#x27;, &#x27;11th&#x27;, &#x27;12th&#x27;, &#x27;HS-grad&#x27;, &#x27;Prof-school&#x27;,\n",
              "                            &#x27;Assoc-acdm&#x27;, &#x27;Assoc-voc&#x27;, &#x27;Some-college&#x27;,\n",
              "                            &#x27;Bachelors&#x27;, &#x27;Masters&#x27;, &#x27;Doctorate&#x27;]])</pre></div></div></div></div></div>"
            ]
          },
          "metadata": {},
          "execution_count": 17
        }
      ],
      "source": [
        "ct.transformers_[1][1]"
      ]
    },
    {
      "cell_type": "code",
      "execution_count": 18,
      "id": "d9c099be",
      "metadata": {
        "colab": {
          "base_uri": "https://localhost:8080/"
        },
        "id": "d9c099be",
        "outputId": "c204d5d6-63e4-40aa-a4e0-cae1d4ab6221"
      },
      "outputs": [
        {
          "output_type": "execute_result",
          "data": {
            "text/plain": [
              "array(['workclass_Federal-gov', 'workclass_Local-gov',\n",
              "       'workclass_Private', 'workclass_Self-emp-inc',\n",
              "       'workclass_Self-emp-not-inc', 'workclass_State-gov',\n",
              "       'workclass_Without-pay', 'marital-status_Divorced',\n",
              "       'marital-status_Married-AF-spouse',\n",
              "       'marital-status_Married-civ-spouse',\n",
              "       'marital-status_Married-spouse-absent',\n",
              "       'marital-status_Never-married', 'marital-status_Separated',\n",
              "       'marital-status_Widowed', 'occupation_Adm-clerical',\n",
              "       'occupation_Armed-Forces', 'occupation_Craft-repair',\n",
              "       'occupation_Exec-managerial', 'occupation_Farming-fishing',\n",
              "       'occupation_Handlers-cleaners', 'occupation_Machine-op-inspct',\n",
              "       'occupation_Other-service', 'occupation_Priv-house-serv',\n",
              "       'occupation_Prof-specialty', 'occupation_Protective-serv',\n",
              "       'occupation_Sales', 'occupation_Tech-support',\n",
              "       'occupation_Transport-moving', 'relationship_Husband',\n",
              "       'relationship_Not-in-family', 'relationship_Other-relative',\n",
              "       'relationship_Own-child', 'relationship_Unmarried',\n",
              "       'relationship_Wife', 'race_Amer-Indian-Eskimo',\n",
              "       'race_Asian-Pac-Islander', 'race_Black', 'race_Other',\n",
              "       'race_White', 'gender_Female', 'gender_Male',\n",
              "       'native-country_Cambodia', 'native-country_Canada',\n",
              "       'native-country_China', 'native-country_Columbia',\n",
              "       'native-country_Cuba', 'native-country_Dominican-Republic',\n",
              "       'native-country_Ecuador', 'native-country_El-Salvador',\n",
              "       'native-country_England', 'native-country_France',\n",
              "       'native-country_Germany', 'native-country_Greece',\n",
              "       'native-country_Guatemala', 'native-country_Haiti',\n",
              "       'native-country_Holand-Netherlands', 'native-country_Honduras',\n",
              "       'native-country_Hong', 'native-country_Hungary',\n",
              "       'native-country_India', 'native-country_Iran',\n",
              "       'native-country_Ireland', 'native-country_Italy',\n",
              "       'native-country_Jamaica', 'native-country_Japan',\n",
              "       'native-country_Laos', 'native-country_Mexico',\n",
              "       'native-country_Nicaragua',\n",
              "       'native-country_Outlying-US(Guam-USVI-etc)', 'native-country_Peru',\n",
              "       'native-country_Philippines', 'native-country_Poland',\n",
              "       'native-country_Portugal', 'native-country_Puerto-Rico',\n",
              "       'native-country_Scotland', 'native-country_South',\n",
              "       'native-country_Taiwan', 'native-country_Thailand',\n",
              "       'native-country_Trinadad&Tobago', 'native-country_United-States',\n",
              "       'native-country_Vietnam', 'native-country_Yugoslavia'],\n",
              "      dtype=object)"
            ]
          },
          "metadata": {},
          "execution_count": 18
        }
      ],
      "source": [
        "ct.transformers_[2][1].get_feature_names_out()"
      ]
    },
    {
      "cell_type": "markdown",
      "id": "925fa926",
      "metadata": {
        "id": "925fa926"
      },
      "source": [
        "## Получилось около 90 столбцов. Полную коррекляционную матрицу увидеть и проанализировать нереально. Поэтому на экран выведу корреляцию с целевым значением только некоторых показателей."
      ]
    },
    {
      "cell_type": "code",
      "execution_count": 19,
      "id": "30a78bdb",
      "metadata": {
        "id": "30a78bdb"
      },
      "outputs": [],
      "source": [
        "corr_matrix = np.round(df_trans.loc[:, df_trans.columns].corr(), 2)\n",
        "corr_matrix[np.abs(corr_matrix) < 0.1] = 0\n",
        "corr_matrix = pd.DataFrame(corr_matrix)\n",
        "\n",
        "# corr_matrix[89].loc[corr_matrix[89] != 0]"
      ]
    },
    {
      "cell_type": "code",
      "execution_count": 20,
      "id": "50f4f7b0",
      "metadata": {
        "id": "50f4f7b0"
      },
      "outputs": [],
      "source": [
        "cin=pd.DataFrame(corr_matrix[89].loc[corr_matrix[89] != 0])\n",
        "cin = cin.rename(columns={89: 'corr coeff'})"
      ]
    },
    {
      "cell_type": "code",
      "execution_count": 21,
      "id": "48154cb8",
      "metadata": {
        "id": "48154cb8"
      },
      "outputs": [],
      "source": [
        "def get_names(ct, trans):\n",
        "    # >> Original get_feature_names() method\n",
        "    if trans == 'drop' or (\n",
        "            hasattr(column, '__len__') and not len(column)):\n",
        "        return []\n",
        "    if trans == 'passthrough':\n",
        "        if hasattr(ct, '_df_columns'):\n",
        "            if ((not isinstance(column, slice))\n",
        "                    and all(isinstance(col, str) for col in column)):\n",
        "                return column\n",
        "            else:\n",
        "                return ct._df_columns[column]\n",
        "        else:\n",
        "            indices = np.arange(ct._n_features)\n",
        "            return ['x%d' % i for i in indices[column]]\n",
        "    if not hasattr(trans, 'get_feature_names'):\n",
        "        if column is None:\n",
        "            return []\n",
        "        else:\n",
        "            return [#name + \"__\" + \n",
        "                    f for f in column]\n",
        "\n",
        "    return [#name + \"__\" + \n",
        "            f for f in trans.get_feature_names_out()]\n",
        "\n",
        "feature_names = []\n",
        "\n",
        "l_transformers = list(ct._iter(fitted=True))\n",
        "cnt = 0\n",
        "for name, trans, column, _ in l_transformers:\n",
        "  _names = get_names(ct, trans)\n",
        "\n",
        "  feature_names.extend(_names)\n",
        "  cnt += 1 \n",
        "\n",
        "fn = pd.DataFrame(feature_names)"
      ]
    },
    {
      "cell_type": "code",
      "execution_count": 22,
      "id": "bc99fcb5",
      "metadata": {
        "id": "bc99fcb5"
      },
      "outputs": [],
      "source": [
        "cin['column name'] = fn[0]"
      ]
    },
    {
      "cell_type": "code",
      "execution_count": 23,
      "id": "8a3d6972",
      "metadata": {
        "colab": {
          "base_uri": "https://localhost:8080/",
          "height": 770
        },
        "id": "8a3d6972",
        "outputId": "0cbcbbce-036a-4481-9091-24bb04a76ce4"
      },
      "outputs": [
        {
          "output_type": "execute_result",
          "data": {
            "text/plain": [
              "    corr coeff     column name\n",
              "0         0.24             age\n",
              "2         0.22    capital-gain\n",
              "3         0.15    capital-loss\n",
              "4         0.23  hours-per-week\n",
              "5         0.26       education\n",
              "8        -0.12      occupation\n",
              "9         0.14    relationship\n",
              "13       -0.13              x4\n",
              "15        0.45             NaN\n",
              "17       -0.32             NaN\n",
              "20       -0.10             NaN\n",
              "23        0.21             NaN\n",
              "27       -0.17             NaN\n",
              "29        0.18             NaN\n",
              "34        0.40             NaN\n",
              "35       -0.20             NaN\n",
              "37       -0.22             NaN\n",
              "38       -0.15             NaN\n",
              "39        0.12             NaN\n",
              "45       -0.22             NaN\n",
              "46        0.22             NaN\n",
              "88        0.33             NaN\n",
              "89        1.00             NaN"
            ],
            "text/html": [
              "\n",
              "  <div id=\"df-d2356079-fee7-4ca5-9cf5-3fe41cbdad9a\">\n",
              "    <div class=\"colab-df-container\">\n",
              "      <div>\n",
              "<style scoped>\n",
              "    .dataframe tbody tr th:only-of-type {\n",
              "        vertical-align: middle;\n",
              "    }\n",
              "\n",
              "    .dataframe tbody tr th {\n",
              "        vertical-align: top;\n",
              "    }\n",
              "\n",
              "    .dataframe thead th {\n",
              "        text-align: right;\n",
              "    }\n",
              "</style>\n",
              "<table border=\"1\" class=\"dataframe\">\n",
              "  <thead>\n",
              "    <tr style=\"text-align: right;\">\n",
              "      <th></th>\n",
              "      <th>corr coeff</th>\n",
              "      <th>column name</th>\n",
              "    </tr>\n",
              "  </thead>\n",
              "  <tbody>\n",
              "    <tr>\n",
              "      <th>0</th>\n",
              "      <td>0.24</td>\n",
              "      <td>age</td>\n",
              "    </tr>\n",
              "    <tr>\n",
              "      <th>2</th>\n",
              "      <td>0.22</td>\n",
              "      <td>capital-gain</td>\n",
              "    </tr>\n",
              "    <tr>\n",
              "      <th>3</th>\n",
              "      <td>0.15</td>\n",
              "      <td>capital-loss</td>\n",
              "    </tr>\n",
              "    <tr>\n",
              "      <th>4</th>\n",
              "      <td>0.23</td>\n",
              "      <td>hours-per-week</td>\n",
              "    </tr>\n",
              "    <tr>\n",
              "      <th>5</th>\n",
              "      <td>0.26</td>\n",
              "      <td>education</td>\n",
              "    </tr>\n",
              "    <tr>\n",
              "      <th>8</th>\n",
              "      <td>-0.12</td>\n",
              "      <td>occupation</td>\n",
              "    </tr>\n",
              "    <tr>\n",
              "      <th>9</th>\n",
              "      <td>0.14</td>\n",
              "      <td>relationship</td>\n",
              "    </tr>\n",
              "    <tr>\n",
              "      <th>13</th>\n",
              "      <td>-0.13</td>\n",
              "      <td>x4</td>\n",
              "    </tr>\n",
              "    <tr>\n",
              "      <th>15</th>\n",
              "      <td>0.45</td>\n",
              "      <td>NaN</td>\n",
              "    </tr>\n",
              "    <tr>\n",
              "      <th>17</th>\n",
              "      <td>-0.32</td>\n",
              "      <td>NaN</td>\n",
              "    </tr>\n",
              "    <tr>\n",
              "      <th>20</th>\n",
              "      <td>-0.10</td>\n",
              "      <td>NaN</td>\n",
              "    </tr>\n",
              "    <tr>\n",
              "      <th>23</th>\n",
              "      <td>0.21</td>\n",
              "      <td>NaN</td>\n",
              "    </tr>\n",
              "    <tr>\n",
              "      <th>27</th>\n",
              "      <td>-0.17</td>\n",
              "      <td>NaN</td>\n",
              "    </tr>\n",
              "    <tr>\n",
              "      <th>29</th>\n",
              "      <td>0.18</td>\n",
              "      <td>NaN</td>\n",
              "    </tr>\n",
              "    <tr>\n",
              "      <th>34</th>\n",
              "      <td>0.40</td>\n",
              "      <td>NaN</td>\n",
              "    </tr>\n",
              "    <tr>\n",
              "      <th>35</th>\n",
              "      <td>-0.20</td>\n",
              "      <td>NaN</td>\n",
              "    </tr>\n",
              "    <tr>\n",
              "      <th>37</th>\n",
              "      <td>-0.22</td>\n",
              "      <td>NaN</td>\n",
              "    </tr>\n",
              "    <tr>\n",
              "      <th>38</th>\n",
              "      <td>-0.15</td>\n",
              "      <td>NaN</td>\n",
              "    </tr>\n",
              "    <tr>\n",
              "      <th>39</th>\n",
              "      <td>0.12</td>\n",
              "      <td>NaN</td>\n",
              "    </tr>\n",
              "    <tr>\n",
              "      <th>45</th>\n",
              "      <td>-0.22</td>\n",
              "      <td>NaN</td>\n",
              "    </tr>\n",
              "    <tr>\n",
              "      <th>46</th>\n",
              "      <td>0.22</td>\n",
              "      <td>NaN</td>\n",
              "    </tr>\n",
              "    <tr>\n",
              "      <th>88</th>\n",
              "      <td>0.33</td>\n",
              "      <td>NaN</td>\n",
              "    </tr>\n",
              "    <tr>\n",
              "      <th>89</th>\n",
              "      <td>1.00</td>\n",
              "      <td>NaN</td>\n",
              "    </tr>\n",
              "  </tbody>\n",
              "</table>\n",
              "</div>\n",
              "      <button class=\"colab-df-convert\" onclick=\"convertToInteractive('df-d2356079-fee7-4ca5-9cf5-3fe41cbdad9a')\"\n",
              "              title=\"Convert this dataframe to an interactive table.\"\n",
              "              style=\"display:none;\">\n",
              "        \n",
              "  <svg xmlns=\"http://www.w3.org/2000/svg\" height=\"24px\"viewBox=\"0 0 24 24\"\n",
              "       width=\"24px\">\n",
              "    <path d=\"M0 0h24v24H0V0z\" fill=\"none\"/>\n",
              "    <path d=\"M18.56 5.44l.94 2.06.94-2.06 2.06-.94-2.06-.94-.94-2.06-.94 2.06-2.06.94zm-11 1L8.5 8.5l.94-2.06 2.06-.94-2.06-.94L8.5 2.5l-.94 2.06-2.06.94zm10 10l.94 2.06.94-2.06 2.06-.94-2.06-.94-.94-2.06-.94 2.06-2.06.94z\"/><path d=\"M17.41 7.96l-1.37-1.37c-.4-.4-.92-.59-1.43-.59-.52 0-1.04.2-1.43.59L10.3 9.45l-7.72 7.72c-.78.78-.78 2.05 0 2.83L4 21.41c.39.39.9.59 1.41.59.51 0 1.02-.2 1.41-.59l7.78-7.78 2.81-2.81c.8-.78.8-2.07 0-2.86zM5.41 20L4 18.59l7.72-7.72 1.47 1.35L5.41 20z\"/>\n",
              "  </svg>\n",
              "      </button>\n",
              "      \n",
              "  <style>\n",
              "    .colab-df-container {\n",
              "      display:flex;\n",
              "      flex-wrap:wrap;\n",
              "      gap: 12px;\n",
              "    }\n",
              "\n",
              "    .colab-df-convert {\n",
              "      background-color: #E8F0FE;\n",
              "      border: none;\n",
              "      border-radius: 50%;\n",
              "      cursor: pointer;\n",
              "      display: none;\n",
              "      fill: #1967D2;\n",
              "      height: 32px;\n",
              "      padding: 0 0 0 0;\n",
              "      width: 32px;\n",
              "    }\n",
              "\n",
              "    .colab-df-convert:hover {\n",
              "      background-color: #E2EBFA;\n",
              "      box-shadow: 0px 1px 2px rgba(60, 64, 67, 0.3), 0px 1px 3px 1px rgba(60, 64, 67, 0.15);\n",
              "      fill: #174EA6;\n",
              "    }\n",
              "\n",
              "    [theme=dark] .colab-df-convert {\n",
              "      background-color: #3B4455;\n",
              "      fill: #D2E3FC;\n",
              "    }\n",
              "\n",
              "    [theme=dark] .colab-df-convert:hover {\n",
              "      background-color: #434B5C;\n",
              "      box-shadow: 0px 1px 3px 1px rgba(0, 0, 0, 0.15);\n",
              "      filter: drop-shadow(0px 1px 2px rgba(0, 0, 0, 0.3));\n",
              "      fill: #FFFFFF;\n",
              "    }\n",
              "  </style>\n",
              "\n",
              "      <script>\n",
              "        const buttonEl =\n",
              "          document.querySelector('#df-d2356079-fee7-4ca5-9cf5-3fe41cbdad9a button.colab-df-convert');\n",
              "        buttonEl.style.display =\n",
              "          google.colab.kernel.accessAllowed ? 'block' : 'none';\n",
              "\n",
              "        async function convertToInteractive(key) {\n",
              "          const element = document.querySelector('#df-d2356079-fee7-4ca5-9cf5-3fe41cbdad9a');\n",
              "          const dataTable =\n",
              "            await google.colab.kernel.invokeFunction('convertToInteractive',\n",
              "                                                     [key], {});\n",
              "          if (!dataTable) return;\n",
              "\n",
              "          const docLinkHtml = 'Like what you see? Visit the ' +\n",
              "            '<a target=\"_blank\" href=https://colab.research.google.com/notebooks/data_table.ipynb>data table notebook</a>'\n",
              "            + ' to learn more about interactive tables.';\n",
              "          element.innerHTML = '';\n",
              "          dataTable['output_type'] = 'display_data';\n",
              "          await google.colab.output.renderOutput(dataTable, element);\n",
              "          const docLink = document.createElement('div');\n",
              "          docLink.innerHTML = docLinkHtml;\n",
              "          element.appendChild(docLink);\n",
              "        }\n",
              "      </script>\n",
              "    </div>\n",
              "  </div>\n",
              "  "
            ]
          },
          "metadata": {},
          "execution_count": 23
        }
      ],
      "source": [
        "cin"
      ]
    },
    {
      "cell_type": "markdown",
      "id": "6f7c14d6",
      "metadata": {
        "id": "6f7c14d6"
      },
      "source": [
        "## Очистка данных после корреляционного анализа"
      ]
    },
    {
      "cell_type": "code",
      "execution_count": 24,
      "id": "a1a559a7",
      "metadata": {
        "colab": {
          "base_uri": "https://localhost:8080/",
          "height": 423
        },
        "id": "a1a559a7",
        "outputId": "e6eebce0-461a-4fcf-93d6-cc56e9c242d6"
      },
      "outputs": [
        {
          "output_type": "execute_result",
          "data": {
            "text/plain": [
              "       age     education      marital_status         occupation  \\\n",
              "0       67     Doctorate            Divorced    Exec-managerial   \n",
              "1       17          12th       Never-married      Other-service   \n",
              "2       31     Bachelors  Married-civ-spouse    Exec-managerial   \n",
              "3       58       7th-8th  Married-civ-spouse   Transport-moving   \n",
              "4       25  Some-college       Never-married      Other-service   \n",
              "...    ...           ...                 ...                ...   \n",
              "43952   52     Bachelors  Married-civ-spouse    Exec-managerial   \n",
              "43953   19       HS-grad       Never-married      Other-service   \n",
              "43954   30  Some-college            Divorced              Sales   \n",
              "43955   46     Bachelors       Never-married              Sales   \n",
              "43956   30       HS-grad       Never-married  Handlers-cleaners   \n",
              "\n",
              "         relationship  capital_gain  capital_loss  hours_per_week  income_>50K  \n",
              "0       Not-in-family         99999             0              60            1  \n",
              "1           Own-child             0             0              15            0  \n",
              "2             Husband             0             0              40            1  \n",
              "3             Husband             0             0              40            0  \n",
              "4       Not-in-family             0             0              40            0  \n",
              "...               ...           ...           ...             ...          ...  \n",
              "43952         Husband             0             0              50            1  \n",
              "43953       Own-child             0             0              40            0  \n",
              "43954   Not-in-family             0             0              58            0  \n",
              "43955   Not-in-family             0             0              35            0  \n",
              "43956  Other-relative             0             0              40            0  \n",
              "\n",
              "[40727 rows x 9 columns]"
            ],
            "text/html": [
              "\n",
              "  <div id=\"df-e054ae6d-26ff-4379-af77-db7f040e6e31\">\n",
              "    <div class=\"colab-df-container\">\n",
              "      <div>\n",
              "<style scoped>\n",
              "    .dataframe tbody tr th:only-of-type {\n",
              "        vertical-align: middle;\n",
              "    }\n",
              "\n",
              "    .dataframe tbody tr th {\n",
              "        vertical-align: top;\n",
              "    }\n",
              "\n",
              "    .dataframe thead th {\n",
              "        text-align: right;\n",
              "    }\n",
              "</style>\n",
              "<table border=\"1\" class=\"dataframe\">\n",
              "  <thead>\n",
              "    <tr style=\"text-align: right;\">\n",
              "      <th></th>\n",
              "      <th>age</th>\n",
              "      <th>education</th>\n",
              "      <th>marital_status</th>\n",
              "      <th>occupation</th>\n",
              "      <th>relationship</th>\n",
              "      <th>capital_gain</th>\n",
              "      <th>capital_loss</th>\n",
              "      <th>hours_per_week</th>\n",
              "      <th>income_&gt;50K</th>\n",
              "    </tr>\n",
              "  </thead>\n",
              "  <tbody>\n",
              "    <tr>\n",
              "      <th>0</th>\n",
              "      <td>67</td>\n",
              "      <td>Doctorate</td>\n",
              "      <td>Divorced</td>\n",
              "      <td>Exec-managerial</td>\n",
              "      <td>Not-in-family</td>\n",
              "      <td>99999</td>\n",
              "      <td>0</td>\n",
              "      <td>60</td>\n",
              "      <td>1</td>\n",
              "    </tr>\n",
              "    <tr>\n",
              "      <th>1</th>\n",
              "      <td>17</td>\n",
              "      <td>12th</td>\n",
              "      <td>Never-married</td>\n",
              "      <td>Other-service</td>\n",
              "      <td>Own-child</td>\n",
              "      <td>0</td>\n",
              "      <td>0</td>\n",
              "      <td>15</td>\n",
              "      <td>0</td>\n",
              "    </tr>\n",
              "    <tr>\n",
              "      <th>2</th>\n",
              "      <td>31</td>\n",
              "      <td>Bachelors</td>\n",
              "      <td>Married-civ-spouse</td>\n",
              "      <td>Exec-managerial</td>\n",
              "      <td>Husband</td>\n",
              "      <td>0</td>\n",
              "      <td>0</td>\n",
              "      <td>40</td>\n",
              "      <td>1</td>\n",
              "    </tr>\n",
              "    <tr>\n",
              "      <th>3</th>\n",
              "      <td>58</td>\n",
              "      <td>7th-8th</td>\n",
              "      <td>Married-civ-spouse</td>\n",
              "      <td>Transport-moving</td>\n",
              "      <td>Husband</td>\n",
              "      <td>0</td>\n",
              "      <td>0</td>\n",
              "      <td>40</td>\n",
              "      <td>0</td>\n",
              "    </tr>\n",
              "    <tr>\n",
              "      <th>4</th>\n",
              "      <td>25</td>\n",
              "      <td>Some-college</td>\n",
              "      <td>Never-married</td>\n",
              "      <td>Other-service</td>\n",
              "      <td>Not-in-family</td>\n",
              "      <td>0</td>\n",
              "      <td>0</td>\n",
              "      <td>40</td>\n",
              "      <td>0</td>\n",
              "    </tr>\n",
              "    <tr>\n",
              "      <th>...</th>\n",
              "      <td>...</td>\n",
              "      <td>...</td>\n",
              "      <td>...</td>\n",
              "      <td>...</td>\n",
              "      <td>...</td>\n",
              "      <td>...</td>\n",
              "      <td>...</td>\n",
              "      <td>...</td>\n",
              "      <td>...</td>\n",
              "    </tr>\n",
              "    <tr>\n",
              "      <th>43952</th>\n",
              "      <td>52</td>\n",
              "      <td>Bachelors</td>\n",
              "      <td>Married-civ-spouse</td>\n",
              "      <td>Exec-managerial</td>\n",
              "      <td>Husband</td>\n",
              "      <td>0</td>\n",
              "      <td>0</td>\n",
              "      <td>50</td>\n",
              "      <td>1</td>\n",
              "    </tr>\n",
              "    <tr>\n",
              "      <th>43953</th>\n",
              "      <td>19</td>\n",
              "      <td>HS-grad</td>\n",
              "      <td>Never-married</td>\n",
              "      <td>Other-service</td>\n",
              "      <td>Own-child</td>\n",
              "      <td>0</td>\n",
              "      <td>0</td>\n",
              "      <td>40</td>\n",
              "      <td>0</td>\n",
              "    </tr>\n",
              "    <tr>\n",
              "      <th>43954</th>\n",
              "      <td>30</td>\n",
              "      <td>Some-college</td>\n",
              "      <td>Divorced</td>\n",
              "      <td>Sales</td>\n",
              "      <td>Not-in-family</td>\n",
              "      <td>0</td>\n",
              "      <td>0</td>\n",
              "      <td>58</td>\n",
              "      <td>0</td>\n",
              "    </tr>\n",
              "    <tr>\n",
              "      <th>43955</th>\n",
              "      <td>46</td>\n",
              "      <td>Bachelors</td>\n",
              "      <td>Never-married</td>\n",
              "      <td>Sales</td>\n",
              "      <td>Not-in-family</td>\n",
              "      <td>0</td>\n",
              "      <td>0</td>\n",
              "      <td>35</td>\n",
              "      <td>0</td>\n",
              "    </tr>\n",
              "    <tr>\n",
              "      <th>43956</th>\n",
              "      <td>30</td>\n",
              "      <td>HS-grad</td>\n",
              "      <td>Never-married</td>\n",
              "      <td>Handlers-cleaners</td>\n",
              "      <td>Other-relative</td>\n",
              "      <td>0</td>\n",
              "      <td>0</td>\n",
              "      <td>40</td>\n",
              "      <td>0</td>\n",
              "    </tr>\n",
              "  </tbody>\n",
              "</table>\n",
              "<p>40727 rows × 9 columns</p>\n",
              "</div>\n",
              "      <button class=\"colab-df-convert\" onclick=\"convertToInteractive('df-e054ae6d-26ff-4379-af77-db7f040e6e31')\"\n",
              "              title=\"Convert this dataframe to an interactive table.\"\n",
              "              style=\"display:none;\">\n",
              "        \n",
              "  <svg xmlns=\"http://www.w3.org/2000/svg\" height=\"24px\"viewBox=\"0 0 24 24\"\n",
              "       width=\"24px\">\n",
              "    <path d=\"M0 0h24v24H0V0z\" fill=\"none\"/>\n",
              "    <path d=\"M18.56 5.44l.94 2.06.94-2.06 2.06-.94-2.06-.94-.94-2.06-.94 2.06-2.06.94zm-11 1L8.5 8.5l.94-2.06 2.06-.94-2.06-.94L8.5 2.5l-.94 2.06-2.06.94zm10 10l.94 2.06.94-2.06 2.06-.94-2.06-.94-.94-2.06-.94 2.06-2.06.94z\"/><path d=\"M17.41 7.96l-1.37-1.37c-.4-.4-.92-.59-1.43-.59-.52 0-1.04.2-1.43.59L10.3 9.45l-7.72 7.72c-.78.78-.78 2.05 0 2.83L4 21.41c.39.39.9.59 1.41.59.51 0 1.02-.2 1.41-.59l7.78-7.78 2.81-2.81c.8-.78.8-2.07 0-2.86zM5.41 20L4 18.59l7.72-7.72 1.47 1.35L5.41 20z\"/>\n",
              "  </svg>\n",
              "      </button>\n",
              "      \n",
              "  <style>\n",
              "    .colab-df-container {\n",
              "      display:flex;\n",
              "      flex-wrap:wrap;\n",
              "      gap: 12px;\n",
              "    }\n",
              "\n",
              "    .colab-df-convert {\n",
              "      background-color: #E8F0FE;\n",
              "      border: none;\n",
              "      border-radius: 50%;\n",
              "      cursor: pointer;\n",
              "      display: none;\n",
              "      fill: #1967D2;\n",
              "      height: 32px;\n",
              "      padding: 0 0 0 0;\n",
              "      width: 32px;\n",
              "    }\n",
              "\n",
              "    .colab-df-convert:hover {\n",
              "      background-color: #E2EBFA;\n",
              "      box-shadow: 0px 1px 2px rgba(60, 64, 67, 0.3), 0px 1px 3px 1px rgba(60, 64, 67, 0.15);\n",
              "      fill: #174EA6;\n",
              "    }\n",
              "\n",
              "    [theme=dark] .colab-df-convert {\n",
              "      background-color: #3B4455;\n",
              "      fill: #D2E3FC;\n",
              "    }\n",
              "\n",
              "    [theme=dark] .colab-df-convert:hover {\n",
              "      background-color: #434B5C;\n",
              "      box-shadow: 0px 1px 3px 1px rgba(0, 0, 0, 0.15);\n",
              "      filter: drop-shadow(0px 1px 2px rgba(0, 0, 0, 0.3));\n",
              "      fill: #FFFFFF;\n",
              "    }\n",
              "  </style>\n",
              "\n",
              "      <script>\n",
              "        const buttonEl =\n",
              "          document.querySelector('#df-e054ae6d-26ff-4379-af77-db7f040e6e31 button.colab-df-convert');\n",
              "        buttonEl.style.display =\n",
              "          google.colab.kernel.accessAllowed ? 'block' : 'none';\n",
              "\n",
              "        async function convertToInteractive(key) {\n",
              "          const element = document.querySelector('#df-e054ae6d-26ff-4379-af77-db7f040e6e31');\n",
              "          const dataTable =\n",
              "            await google.colab.kernel.invokeFunction('convertToInteractive',\n",
              "                                                     [key], {});\n",
              "          if (!dataTable) return;\n",
              "\n",
              "          const docLinkHtml = 'Like what you see? Visit the ' +\n",
              "            '<a target=\"_blank\" href=https://colab.research.google.com/notebooks/data_table.ipynb>data table notebook</a>'\n",
              "            + ' to learn more about interactive tables.';\n",
              "          element.innerHTML = '';\n",
              "          dataTable['output_type'] = 'display_data';\n",
              "          await google.colab.output.renderOutput(dataTable, element);\n",
              "          const docLink = document.createElement('div');\n",
              "          docLink.innerHTML = docLinkHtml;\n",
              "          element.appendChild(docLink);\n",
              "        }\n",
              "      </script>\n",
              "    </div>\n",
              "  </div>\n",
              "  "
            ]
          },
          "metadata": {},
          "execution_count": 24
        }
      ],
      "source": [
        "columns_to_drop = ['fnlwgt', 'educational_num', 'workclass', 'race', 'native_country', 'gender']\n",
        "columns_ = [_.replace('-', '_') for _ in list(df.columns)]\n",
        "columns = dict(zip(list(df.columns), columns_))\n",
        "df.rename(columns=columns, inplace=True)\n",
        "df_new = df.drop(columns=columns_to_drop)\n",
        "df_new"
      ]
    },
    {
      "cell_type": "code",
      "execution_count": 25,
      "id": "649e2186",
      "metadata": {
        "id": "649e2186"
      },
      "outputs": [],
      "source": [
        "X_new = df_new.loc[:, df_new.columns[:-1]]\n",
        "y_new = df_new['income_>50K']"
      ]
    },
    {
      "cell_type": "code",
      "execution_count": 26,
      "id": "276945e3",
      "metadata": {
        "id": "276945e3"
      },
      "outputs": [],
      "source": [
        "X_train, X_test, y_train, y_test = train_test_split(X_new, y_new, random_state=42, test_size=0.2)"
      ]
    },
    {
      "cell_type": "markdown",
      "id": "982e357e",
      "metadata": {
        "id": "982e357e"
      },
      "source": [
        "## Попробуем применить GradientBoosting к откорректированным данным"
      ]
    },
    {
      "cell_type": "code",
      "execution_count": 27,
      "id": "e42a8332",
      "metadata": {
        "colab": {
          "base_uri": "https://localhost:8080/"
        },
        "id": "e42a8332",
        "outputId": "30ea3b04-a18f-4e82-a90a-798fbb6cc713"
      },
      "outputs": [
        {
          "output_type": "stream",
          "name": "stderr",
          "text": [
            "/usr/local/lib/python3.9/dist-packages/sklearn/preprocessing/_encoders.py:868: FutureWarning: `sparse` was renamed to `sparse_output` in version 1.2 and will be removed in 1.4. `sparse_output` is ignored unless you leave `sparse` to its default value.\n",
            "  warnings.warn(\n"
          ]
        }
      ],
      "source": [
        "ct = make_column_transformer((rs, ['age', 'capital_gain', 'capital_loss', 'hours_per_week']),\n",
        "                             (oe, ['education']),\n",
        "                             (ohe, ['marital_status', 'occupation', 'relationship']),\n",
        "                             remainder='passthrough')\n",
        "\n",
        "gbc = GradientBoostingClassifier(random_state=42)\n",
        "\n",
        "pipe = make_pipeline(ct, gbc)\n",
        "pipe.fit(X_train, y_train);"
      ]
    },
    {
      "cell_type": "code",
      "execution_count": 28,
      "id": "9a45fbb6",
      "metadata": {
        "colab": {
          "base_uri": "https://localhost:8080/"
        },
        "id": "9a45fbb6",
        "outputId": "8a1fa318-b920-4987-a5e5-5c87d524a15e"
      },
      "outputs": [
        {
          "output_type": "stream",
          "name": "stderr",
          "text": [
            "/usr/local/lib/python3.9/dist-packages/sklearn/preprocessing/_encoders.py:868: FutureWarning: `sparse` was renamed to `sparse_output` in version 1.2 and will be removed in 1.4. `sparse_output` is ignored unless you leave `sparse` to its default value.\n",
            "  warnings.warn(\n",
            "/usr/local/lib/python3.9/dist-packages/sklearn/preprocessing/_encoders.py:868: FutureWarning: `sparse` was renamed to `sparse_output` in version 1.2 and will be removed in 1.4. `sparse_output` is ignored unless you leave `sparse` to its default value.\n",
            "  warnings.warn(\n",
            "/usr/local/lib/python3.9/dist-packages/sklearn/preprocessing/_encoders.py:868: FutureWarning: `sparse` was renamed to `sparse_output` in version 1.2 and will be removed in 1.4. `sparse_output` is ignored unless you leave `sparse` to its default value.\n",
            "  warnings.warn(\n"
          ]
        },
        {
          "output_type": "execute_result",
          "data": {
            "text/plain": [
              "0.8472658491187609"
            ]
          },
          "metadata": {},
          "execution_count": 28
        }
      ],
      "source": [
        "cv_score = cross_val_score(pipe, X_test, y_test, cv=3, scoring='f1_weighted')\n",
        "cv_score.mean()"
      ]
    },
    {
      "cell_type": "markdown",
      "id": "feefac3c",
      "metadata": {
        "id": "feefac3c"
      },
      "source": [
        "## Подберем оптимальные гиперпараметры"
      ]
    },
    {
      "cell_type": "code",
      "execution_count": 29,
      "id": "24790256",
      "metadata": {
        "colab": {
          "base_uri": "https://localhost:8080/"
        },
        "id": "24790256",
        "outputId": "ae11cf89-d481-4854-bb6c-598d766a670b"
      },
      "outputs": [
        {
          "output_type": "stream",
          "name": "stdout",
          "text": [
            "Fitting 2 folds for each of 27 candidates, totalling 54 fits\n",
            "[CV 1/2; 1/27] START gradientboostingclassifier__learning_rate=0.1, gradientboostingclassifier__max_depth=3, gradientboostingclassifier__min_samples_leaf=1, gradientboostingclassifier__n_estimators=200\n"
          ]
        },
        {
          "output_type": "stream",
          "name": "stderr",
          "text": [
            "/usr/local/lib/python3.9/dist-packages/sklearn/preprocessing/_encoders.py:868: FutureWarning: `sparse` was renamed to `sparse_output` in version 1.2 and will be removed in 1.4. `sparse_output` is ignored unless you leave `sparse` to its default value.\n",
            "  warnings.warn(\n"
          ]
        },
        {
          "output_type": "stream",
          "name": "stdout",
          "text": [
            "[CV 1/2; 1/27] END gradientboostingclassifier__learning_rate=0.1, gradientboostingclassifier__max_depth=3, gradientboostingclassifier__min_samples_leaf=1, gradientboostingclassifier__n_estimators=200;, score=0.864 total time=   5.9s\n",
            "[CV 2/2; 1/27] START gradientboostingclassifier__learning_rate=0.1, gradientboostingclassifier__max_depth=3, gradientboostingclassifier__min_samples_leaf=1, gradientboostingclassifier__n_estimators=200\n"
          ]
        },
        {
          "output_type": "stream",
          "name": "stderr",
          "text": [
            "/usr/local/lib/python3.9/dist-packages/sklearn/preprocessing/_encoders.py:868: FutureWarning: `sparse` was renamed to `sparse_output` in version 1.2 and will be removed in 1.4. `sparse_output` is ignored unless you leave `sparse` to its default value.\n",
            "  warnings.warn(\n"
          ]
        },
        {
          "output_type": "stream",
          "name": "stdout",
          "text": [
            "[CV 2/2; 1/27] END gradientboostingclassifier__learning_rate=0.1, gradientboostingclassifier__max_depth=3, gradientboostingclassifier__min_samples_leaf=1, gradientboostingclassifier__n_estimators=200;, score=0.868 total time=   5.6s\n",
            "[CV 1/2; 2/27] START gradientboostingclassifier__learning_rate=0.1, gradientboostingclassifier__max_depth=3, gradientboostingclassifier__min_samples_leaf=5, gradientboostingclassifier__n_estimators=200\n"
          ]
        },
        {
          "output_type": "stream",
          "name": "stderr",
          "text": [
            "/usr/local/lib/python3.9/dist-packages/sklearn/preprocessing/_encoders.py:868: FutureWarning: `sparse` was renamed to `sparse_output` in version 1.2 and will be removed in 1.4. `sparse_output` is ignored unless you leave `sparse` to its default value.\n",
            "  warnings.warn(\n"
          ]
        },
        {
          "output_type": "stream",
          "name": "stdout",
          "text": [
            "[CV 1/2; 2/27] END gradientboostingclassifier__learning_rate=0.1, gradientboostingclassifier__max_depth=3, gradientboostingclassifier__min_samples_leaf=5, gradientboostingclassifier__n_estimators=200;, score=0.864 total time=   5.1s\n",
            "[CV 2/2; 2/27] START gradientboostingclassifier__learning_rate=0.1, gradientboostingclassifier__max_depth=3, gradientboostingclassifier__min_samples_leaf=5, gradientboostingclassifier__n_estimators=200\n"
          ]
        },
        {
          "output_type": "stream",
          "name": "stderr",
          "text": [
            "/usr/local/lib/python3.9/dist-packages/sklearn/preprocessing/_encoders.py:868: FutureWarning: `sparse` was renamed to `sparse_output` in version 1.2 and will be removed in 1.4. `sparse_output` is ignored unless you leave `sparse` to its default value.\n",
            "  warnings.warn(\n"
          ]
        },
        {
          "output_type": "stream",
          "name": "stdout",
          "text": [
            "[CV 2/2; 2/27] END gradientboostingclassifier__learning_rate=0.1, gradientboostingclassifier__max_depth=3, gradientboostingclassifier__min_samples_leaf=5, gradientboostingclassifier__n_estimators=200;, score=0.867 total time=   6.4s\n",
            "[CV 1/2; 3/27] START gradientboostingclassifier__learning_rate=0.1, gradientboostingclassifier__max_depth=3, gradientboostingclassifier__min_samples_leaf=10, gradientboostingclassifier__n_estimators=200\n"
          ]
        },
        {
          "output_type": "stream",
          "name": "stderr",
          "text": [
            "/usr/local/lib/python3.9/dist-packages/sklearn/preprocessing/_encoders.py:868: FutureWarning: `sparse` was renamed to `sparse_output` in version 1.2 and will be removed in 1.4. `sparse_output` is ignored unless you leave `sparse` to its default value.\n",
            "  warnings.warn(\n"
          ]
        },
        {
          "output_type": "stream",
          "name": "stdout",
          "text": [
            "[CV 1/2; 3/27] END gradientboostingclassifier__learning_rate=0.1, gradientboostingclassifier__max_depth=3, gradientboostingclassifier__min_samples_leaf=10, gradientboostingclassifier__n_estimators=200;, score=0.864 total time=   5.0s\n",
            "[CV 2/2; 3/27] START gradientboostingclassifier__learning_rate=0.1, gradientboostingclassifier__max_depth=3, gradientboostingclassifier__min_samples_leaf=10, gradientboostingclassifier__n_estimators=200\n"
          ]
        },
        {
          "output_type": "stream",
          "name": "stderr",
          "text": [
            "/usr/local/lib/python3.9/dist-packages/sklearn/preprocessing/_encoders.py:868: FutureWarning: `sparse` was renamed to `sparse_output` in version 1.2 and will be removed in 1.4. `sparse_output` is ignored unless you leave `sparse` to its default value.\n",
            "  warnings.warn(\n"
          ]
        },
        {
          "output_type": "stream",
          "name": "stdout",
          "text": [
            "[CV 2/2; 3/27] END gradientboostingclassifier__learning_rate=0.1, gradientboostingclassifier__max_depth=3, gradientboostingclassifier__min_samples_leaf=10, gradientboostingclassifier__n_estimators=200;, score=0.867 total time=   5.5s\n",
            "[CV 1/2; 4/27] START gradientboostingclassifier__learning_rate=0.1, gradientboostingclassifier__max_depth=5, gradientboostingclassifier__min_samples_leaf=1, gradientboostingclassifier__n_estimators=200\n"
          ]
        },
        {
          "output_type": "stream",
          "name": "stderr",
          "text": [
            "/usr/local/lib/python3.9/dist-packages/sklearn/preprocessing/_encoders.py:868: FutureWarning: `sparse` was renamed to `sparse_output` in version 1.2 and will be removed in 1.4. `sparse_output` is ignored unless you leave `sparse` to its default value.\n",
            "  warnings.warn(\n"
          ]
        },
        {
          "output_type": "stream",
          "name": "stdout",
          "text": [
            "[CV 1/2; 4/27] END gradientboostingclassifier__learning_rate=0.1, gradientboostingclassifier__max_depth=5, gradientboostingclassifier__min_samples_leaf=1, gradientboostingclassifier__n_estimators=200;, score=0.865 total time=   8.7s\n",
            "[CV 2/2; 4/27] START gradientboostingclassifier__learning_rate=0.1, gradientboostingclassifier__max_depth=5, gradientboostingclassifier__min_samples_leaf=1, gradientboostingclassifier__n_estimators=200\n"
          ]
        },
        {
          "output_type": "stream",
          "name": "stderr",
          "text": [
            "/usr/local/lib/python3.9/dist-packages/sklearn/preprocessing/_encoders.py:868: FutureWarning: `sparse` was renamed to `sparse_output` in version 1.2 and will be removed in 1.4. `sparse_output` is ignored unless you leave `sparse` to its default value.\n",
            "  warnings.warn(\n"
          ]
        },
        {
          "output_type": "stream",
          "name": "stdout",
          "text": [
            "[CV 2/2; 4/27] END gradientboostingclassifier__learning_rate=0.1, gradientboostingclassifier__max_depth=5, gradientboostingclassifier__min_samples_leaf=1, gradientboostingclassifier__n_estimators=200;, score=0.867 total time=   9.0s\n",
            "[CV 1/2; 5/27] START gradientboostingclassifier__learning_rate=0.1, gradientboostingclassifier__max_depth=5, gradientboostingclassifier__min_samples_leaf=5, gradientboostingclassifier__n_estimators=200\n"
          ]
        },
        {
          "output_type": "stream",
          "name": "stderr",
          "text": [
            "/usr/local/lib/python3.9/dist-packages/sklearn/preprocessing/_encoders.py:868: FutureWarning: `sparse` was renamed to `sparse_output` in version 1.2 and will be removed in 1.4. `sparse_output` is ignored unless you leave `sparse` to its default value.\n",
            "  warnings.warn(\n"
          ]
        },
        {
          "output_type": "stream",
          "name": "stdout",
          "text": [
            "[CV 1/2; 5/27] END gradientboostingclassifier__learning_rate=0.1, gradientboostingclassifier__max_depth=5, gradientboostingclassifier__min_samples_leaf=5, gradientboostingclassifier__n_estimators=200;, score=0.866 total time=   7.8s\n",
            "[CV 2/2; 5/27] START gradientboostingclassifier__learning_rate=0.1, gradientboostingclassifier__max_depth=5, gradientboostingclassifier__min_samples_leaf=5, gradientboostingclassifier__n_estimators=200\n"
          ]
        },
        {
          "output_type": "stream",
          "name": "stderr",
          "text": [
            "/usr/local/lib/python3.9/dist-packages/sklearn/preprocessing/_encoders.py:868: FutureWarning: `sparse` was renamed to `sparse_output` in version 1.2 and will be removed in 1.4. `sparse_output` is ignored unless you leave `sparse` to its default value.\n",
            "  warnings.warn(\n"
          ]
        },
        {
          "output_type": "stream",
          "name": "stdout",
          "text": [
            "[CV 2/2; 5/27] END gradientboostingclassifier__learning_rate=0.1, gradientboostingclassifier__max_depth=5, gradientboostingclassifier__min_samples_leaf=5, gradientboostingclassifier__n_estimators=200;, score=0.867 total time=   9.2s\n",
            "[CV 1/2; 6/27] START gradientboostingclassifier__learning_rate=0.1, gradientboostingclassifier__max_depth=5, gradientboostingclassifier__min_samples_leaf=10, gradientboostingclassifier__n_estimators=200\n"
          ]
        },
        {
          "output_type": "stream",
          "name": "stderr",
          "text": [
            "/usr/local/lib/python3.9/dist-packages/sklearn/preprocessing/_encoders.py:868: FutureWarning: `sparse` was renamed to `sparse_output` in version 1.2 and will be removed in 1.4. `sparse_output` is ignored unless you leave `sparse` to its default value.\n",
            "  warnings.warn(\n"
          ]
        },
        {
          "output_type": "stream",
          "name": "stdout",
          "text": [
            "[CV 1/2; 6/27] END gradientboostingclassifier__learning_rate=0.1, gradientboostingclassifier__max_depth=5, gradientboostingclassifier__min_samples_leaf=10, gradientboostingclassifier__n_estimators=200;, score=0.865 total time=   7.9s\n",
            "[CV 2/2; 6/27] START gradientboostingclassifier__learning_rate=0.1, gradientboostingclassifier__max_depth=5, gradientboostingclassifier__min_samples_leaf=10, gradientboostingclassifier__n_estimators=200\n"
          ]
        },
        {
          "output_type": "stream",
          "name": "stderr",
          "text": [
            "/usr/local/lib/python3.9/dist-packages/sklearn/preprocessing/_encoders.py:868: FutureWarning: `sparse` was renamed to `sparse_output` in version 1.2 and will be removed in 1.4. `sparse_output` is ignored unless you leave `sparse` to its default value.\n",
            "  warnings.warn(\n"
          ]
        },
        {
          "output_type": "stream",
          "name": "stdout",
          "text": [
            "[CV 2/2; 6/27] END gradientboostingclassifier__learning_rate=0.1, gradientboostingclassifier__max_depth=5, gradientboostingclassifier__min_samples_leaf=10, gradientboostingclassifier__n_estimators=200;, score=0.868 total time=   8.8s\n",
            "[CV 1/2; 7/27] START gradientboostingclassifier__learning_rate=0.1, gradientboostingclassifier__max_depth=7, gradientboostingclassifier__min_samples_leaf=1, gradientboostingclassifier__n_estimators=200\n"
          ]
        },
        {
          "output_type": "stream",
          "name": "stderr",
          "text": [
            "/usr/local/lib/python3.9/dist-packages/sklearn/preprocessing/_encoders.py:868: FutureWarning: `sparse` was renamed to `sparse_output` in version 1.2 and will be removed in 1.4. `sparse_output` is ignored unless you leave `sparse` to its default value.\n",
            "  warnings.warn(\n"
          ]
        },
        {
          "output_type": "stream",
          "name": "stdout",
          "text": [
            "[CV 1/2; 7/27] END gradientboostingclassifier__learning_rate=0.1, gradientboostingclassifier__max_depth=7, gradientboostingclassifier__min_samples_leaf=1, gradientboostingclassifier__n_estimators=200;, score=0.861 total time=  12.1s\n",
            "[CV 2/2; 7/27] START gradientboostingclassifier__learning_rate=0.1, gradientboostingclassifier__max_depth=7, gradientboostingclassifier__min_samples_leaf=1, gradientboostingclassifier__n_estimators=200\n"
          ]
        },
        {
          "output_type": "stream",
          "name": "stderr",
          "text": [
            "/usr/local/lib/python3.9/dist-packages/sklearn/preprocessing/_encoders.py:868: FutureWarning: `sparse` was renamed to `sparse_output` in version 1.2 and will be removed in 1.4. `sparse_output` is ignored unless you leave `sparse` to its default value.\n",
            "  warnings.warn(\n"
          ]
        },
        {
          "output_type": "stream",
          "name": "stdout",
          "text": [
            "[CV 2/2; 7/27] END gradientboostingclassifier__learning_rate=0.1, gradientboostingclassifier__max_depth=7, gradientboostingclassifier__min_samples_leaf=1, gradientboostingclassifier__n_estimators=200;, score=0.863 total time=  11.9s\n",
            "[CV 1/2; 8/27] START gradientboostingclassifier__learning_rate=0.1, gradientboostingclassifier__max_depth=7, gradientboostingclassifier__min_samples_leaf=5, gradientboostingclassifier__n_estimators=200\n"
          ]
        },
        {
          "output_type": "stream",
          "name": "stderr",
          "text": [
            "/usr/local/lib/python3.9/dist-packages/sklearn/preprocessing/_encoders.py:868: FutureWarning: `sparse` was renamed to `sparse_output` in version 1.2 and will be removed in 1.4. `sparse_output` is ignored unless you leave `sparse` to its default value.\n",
            "  warnings.warn(\n"
          ]
        },
        {
          "output_type": "stream",
          "name": "stdout",
          "text": [
            "[CV 1/2; 8/27] END gradientboostingclassifier__learning_rate=0.1, gradientboostingclassifier__max_depth=7, gradientboostingclassifier__min_samples_leaf=5, gradientboostingclassifier__n_estimators=200;, score=0.863 total time=  10.9s\n",
            "[CV 2/2; 8/27] START gradientboostingclassifier__learning_rate=0.1, gradientboostingclassifier__max_depth=7, gradientboostingclassifier__min_samples_leaf=5, gradientboostingclassifier__n_estimators=200\n"
          ]
        },
        {
          "output_type": "stream",
          "name": "stderr",
          "text": [
            "/usr/local/lib/python3.9/dist-packages/sklearn/preprocessing/_encoders.py:868: FutureWarning: `sparse` was renamed to `sparse_output` in version 1.2 and will be removed in 1.4. `sparse_output` is ignored unless you leave `sparse` to its default value.\n",
            "  warnings.warn(\n"
          ]
        },
        {
          "output_type": "stream",
          "name": "stdout",
          "text": [
            "[CV 2/2; 8/27] END gradientboostingclassifier__learning_rate=0.1, gradientboostingclassifier__max_depth=7, gradientboostingclassifier__min_samples_leaf=5, gradientboostingclassifier__n_estimators=200;, score=0.862 total time=  11.3s\n",
            "[CV 1/2; 9/27] START gradientboostingclassifier__learning_rate=0.1, gradientboostingclassifier__max_depth=7, gradientboostingclassifier__min_samples_leaf=10, gradientboostingclassifier__n_estimators=200\n"
          ]
        },
        {
          "output_type": "stream",
          "name": "stderr",
          "text": [
            "/usr/local/lib/python3.9/dist-packages/sklearn/preprocessing/_encoders.py:868: FutureWarning: `sparse` was renamed to `sparse_output` in version 1.2 and will be removed in 1.4. `sparse_output` is ignored unless you leave `sparse` to its default value.\n",
            "  warnings.warn(\n"
          ]
        },
        {
          "output_type": "stream",
          "name": "stdout",
          "text": [
            "[CV 1/2; 9/27] END gradientboostingclassifier__learning_rate=0.1, gradientboostingclassifier__max_depth=7, gradientboostingclassifier__min_samples_leaf=10, gradientboostingclassifier__n_estimators=200;, score=0.864 total time=  11.8s\n",
            "[CV 2/2; 9/27] START gradientboostingclassifier__learning_rate=0.1, gradientboostingclassifier__max_depth=7, gradientboostingclassifier__min_samples_leaf=10, gradientboostingclassifier__n_estimators=200\n"
          ]
        },
        {
          "output_type": "stream",
          "name": "stderr",
          "text": [
            "/usr/local/lib/python3.9/dist-packages/sklearn/preprocessing/_encoders.py:868: FutureWarning: `sparse` was renamed to `sparse_output` in version 1.2 and will be removed in 1.4. `sparse_output` is ignored unless you leave `sparse` to its default value.\n",
            "  warnings.warn(\n"
          ]
        },
        {
          "output_type": "stream",
          "name": "stdout",
          "text": [
            "[CV 2/2; 9/27] END gradientboostingclassifier__learning_rate=0.1, gradientboostingclassifier__max_depth=7, gradientboostingclassifier__min_samples_leaf=10, gradientboostingclassifier__n_estimators=200;, score=0.865 total time=  11.6s\n",
            "[CV 1/2; 10/27] START gradientboostingclassifier__learning_rate=0.05, gradientboostingclassifier__max_depth=3, gradientboostingclassifier__min_samples_leaf=1, gradientboostingclassifier__n_estimators=200\n"
          ]
        },
        {
          "output_type": "stream",
          "name": "stderr",
          "text": [
            "/usr/local/lib/python3.9/dist-packages/sklearn/preprocessing/_encoders.py:868: FutureWarning: `sparse` was renamed to `sparse_output` in version 1.2 and will be removed in 1.4. `sparse_output` is ignored unless you leave `sparse` to its default value.\n",
            "  warnings.warn(\n"
          ]
        },
        {
          "output_type": "stream",
          "name": "stdout",
          "text": [
            "[CV 1/2; 10/27] END gradientboostingclassifier__learning_rate=0.05, gradientboostingclassifier__max_depth=3, gradientboostingclassifier__min_samples_leaf=1, gradientboostingclassifier__n_estimators=200;, score=0.860 total time=   4.9s\n",
            "[CV 2/2; 10/27] START gradientboostingclassifier__learning_rate=0.05, gradientboostingclassifier__max_depth=3, gradientboostingclassifier__min_samples_leaf=1, gradientboostingclassifier__n_estimators=200\n"
          ]
        },
        {
          "output_type": "stream",
          "name": "stderr",
          "text": [
            "/usr/local/lib/python3.9/dist-packages/sklearn/preprocessing/_encoders.py:868: FutureWarning: `sparse` was renamed to `sparse_output` in version 1.2 and will be removed in 1.4. `sparse_output` is ignored unless you leave `sparse` to its default value.\n",
            "  warnings.warn(\n"
          ]
        },
        {
          "output_type": "stream",
          "name": "stdout",
          "text": [
            "[CV 2/2; 10/27] END gradientboostingclassifier__learning_rate=0.05, gradientboostingclassifier__max_depth=3, gradientboostingclassifier__min_samples_leaf=1, gradientboostingclassifier__n_estimators=200;, score=0.865 total time=   6.2s\n",
            "[CV 1/2; 11/27] START gradientboostingclassifier__learning_rate=0.05, gradientboostingclassifier__max_depth=3, gradientboostingclassifier__min_samples_leaf=5, gradientboostingclassifier__n_estimators=200\n"
          ]
        },
        {
          "output_type": "stream",
          "name": "stderr",
          "text": [
            "/usr/local/lib/python3.9/dist-packages/sklearn/preprocessing/_encoders.py:868: FutureWarning: `sparse` was renamed to `sparse_output` in version 1.2 and will be removed in 1.4. `sparse_output` is ignored unless you leave `sparse` to its default value.\n",
            "  warnings.warn(\n"
          ]
        },
        {
          "output_type": "stream",
          "name": "stdout",
          "text": [
            "[CV 1/2; 11/27] END gradientboostingclassifier__learning_rate=0.05, gradientboostingclassifier__max_depth=3, gradientboostingclassifier__min_samples_leaf=5, gradientboostingclassifier__n_estimators=200;, score=0.860 total time=   5.4s\n",
            "[CV 2/2; 11/27] START gradientboostingclassifier__learning_rate=0.05, gradientboostingclassifier__max_depth=3, gradientboostingclassifier__min_samples_leaf=5, gradientboostingclassifier__n_estimators=200\n"
          ]
        },
        {
          "output_type": "stream",
          "name": "stderr",
          "text": [
            "/usr/local/lib/python3.9/dist-packages/sklearn/preprocessing/_encoders.py:868: FutureWarning: `sparse` was renamed to `sparse_output` in version 1.2 and will be removed in 1.4. `sparse_output` is ignored unless you leave `sparse` to its default value.\n",
            "  warnings.warn(\n"
          ]
        },
        {
          "output_type": "stream",
          "name": "stdout",
          "text": [
            "[CV 2/2; 11/27] END gradientboostingclassifier__learning_rate=0.05, gradientboostingclassifier__max_depth=3, gradientboostingclassifier__min_samples_leaf=5, gradientboostingclassifier__n_estimators=200;, score=0.865 total time=   5.1s\n",
            "[CV 1/2; 12/27] START gradientboostingclassifier__learning_rate=0.05, gradientboostingclassifier__max_depth=3, gradientboostingclassifier__min_samples_leaf=10, gradientboostingclassifier__n_estimators=200\n"
          ]
        },
        {
          "output_type": "stream",
          "name": "stderr",
          "text": [
            "/usr/local/lib/python3.9/dist-packages/sklearn/preprocessing/_encoders.py:868: FutureWarning: `sparse` was renamed to `sparse_output` in version 1.2 and will be removed in 1.4. `sparse_output` is ignored unless you leave `sparse` to its default value.\n",
            "  warnings.warn(\n"
          ]
        },
        {
          "output_type": "stream",
          "name": "stdout",
          "text": [
            "[CV 1/2; 12/27] END gradientboostingclassifier__learning_rate=0.05, gradientboostingclassifier__max_depth=3, gradientboostingclassifier__min_samples_leaf=10, gradientboostingclassifier__n_estimators=200;, score=0.861 total time=   6.4s\n",
            "[CV 2/2; 12/27] START gradientboostingclassifier__learning_rate=0.05, gradientboostingclassifier__max_depth=3, gradientboostingclassifier__min_samples_leaf=10, gradientboostingclassifier__n_estimators=200\n"
          ]
        },
        {
          "output_type": "stream",
          "name": "stderr",
          "text": [
            "/usr/local/lib/python3.9/dist-packages/sklearn/preprocessing/_encoders.py:868: FutureWarning: `sparse` was renamed to `sparse_output` in version 1.2 and will be removed in 1.4. `sparse_output` is ignored unless you leave `sparse` to its default value.\n",
            "  warnings.warn(\n"
          ]
        },
        {
          "output_type": "stream",
          "name": "stdout",
          "text": [
            "[CV 2/2; 12/27] END gradientboostingclassifier__learning_rate=0.05, gradientboostingclassifier__max_depth=3, gradientboostingclassifier__min_samples_leaf=10, gradientboostingclassifier__n_estimators=200;, score=0.865 total time=   5.1s\n",
            "[CV 1/2; 13/27] START gradientboostingclassifier__learning_rate=0.05, gradientboostingclassifier__max_depth=5, gradientboostingclassifier__min_samples_leaf=1, gradientboostingclassifier__n_estimators=200\n"
          ]
        },
        {
          "output_type": "stream",
          "name": "stderr",
          "text": [
            "/usr/local/lib/python3.9/dist-packages/sklearn/preprocessing/_encoders.py:868: FutureWarning: `sparse` was renamed to `sparse_output` in version 1.2 and will be removed in 1.4. `sparse_output` is ignored unless you leave `sparse` to its default value.\n",
            "  warnings.warn(\n"
          ]
        },
        {
          "output_type": "stream",
          "name": "stdout",
          "text": [
            "[CV 1/2; 13/27] END gradientboostingclassifier__learning_rate=0.05, gradientboostingclassifier__max_depth=5, gradientboostingclassifier__min_samples_leaf=1, gradientboostingclassifier__n_estimators=200;, score=0.865 total time=   9.2s\n",
            "[CV 2/2; 13/27] START gradientboostingclassifier__learning_rate=0.05, gradientboostingclassifier__max_depth=5, gradientboostingclassifier__min_samples_leaf=1, gradientboostingclassifier__n_estimators=200\n"
          ]
        },
        {
          "output_type": "stream",
          "name": "stderr",
          "text": [
            "/usr/local/lib/python3.9/dist-packages/sklearn/preprocessing/_encoders.py:868: FutureWarning: `sparse` was renamed to `sparse_output` in version 1.2 and will be removed in 1.4. `sparse_output` is ignored unless you leave `sparse` to its default value.\n",
            "  warnings.warn(\n"
          ]
        },
        {
          "output_type": "stream",
          "name": "stdout",
          "text": [
            "[CV 2/2; 13/27] END gradientboostingclassifier__learning_rate=0.05, gradientboostingclassifier__max_depth=5, gradientboostingclassifier__min_samples_leaf=1, gradientboostingclassifier__n_estimators=200;, score=0.869 total time=   7.6s\n",
            "[CV 1/2; 14/27] START gradientboostingclassifier__learning_rate=0.05, gradientboostingclassifier__max_depth=5, gradientboostingclassifier__min_samples_leaf=5, gradientboostingclassifier__n_estimators=200\n"
          ]
        },
        {
          "output_type": "stream",
          "name": "stderr",
          "text": [
            "/usr/local/lib/python3.9/dist-packages/sklearn/preprocessing/_encoders.py:868: FutureWarning: `sparse` was renamed to `sparse_output` in version 1.2 and will be removed in 1.4. `sparse_output` is ignored unless you leave `sparse` to its default value.\n",
            "  warnings.warn(\n"
          ]
        },
        {
          "output_type": "stream",
          "name": "stdout",
          "text": [
            "[CV 1/2; 14/27] END gradientboostingclassifier__learning_rate=0.05, gradientboostingclassifier__max_depth=5, gradientboostingclassifier__min_samples_leaf=5, gradientboostingclassifier__n_estimators=200;, score=0.866 total time=   9.1s\n",
            "[CV 2/2; 14/27] START gradientboostingclassifier__learning_rate=0.05, gradientboostingclassifier__max_depth=5, gradientboostingclassifier__min_samples_leaf=5, gradientboostingclassifier__n_estimators=200\n"
          ]
        },
        {
          "output_type": "stream",
          "name": "stderr",
          "text": [
            "/usr/local/lib/python3.9/dist-packages/sklearn/preprocessing/_encoders.py:868: FutureWarning: `sparse` was renamed to `sparse_output` in version 1.2 and will be removed in 1.4. `sparse_output` is ignored unless you leave `sparse` to its default value.\n",
            "  warnings.warn(\n"
          ]
        },
        {
          "output_type": "stream",
          "name": "stdout",
          "text": [
            "[CV 2/2; 14/27] END gradientboostingclassifier__learning_rate=0.05, gradientboostingclassifier__max_depth=5, gradientboostingclassifier__min_samples_leaf=5, gradientboostingclassifier__n_estimators=200;, score=0.868 total time=   8.1s\n",
            "[CV 1/2; 15/27] START gradientboostingclassifier__learning_rate=0.05, gradientboostingclassifier__max_depth=5, gradientboostingclassifier__min_samples_leaf=10, gradientboostingclassifier__n_estimators=200\n"
          ]
        },
        {
          "output_type": "stream",
          "name": "stderr",
          "text": [
            "/usr/local/lib/python3.9/dist-packages/sklearn/preprocessing/_encoders.py:868: FutureWarning: `sparse` was renamed to `sparse_output` in version 1.2 and will be removed in 1.4. `sparse_output` is ignored unless you leave `sparse` to its default value.\n",
            "  warnings.warn(\n"
          ]
        },
        {
          "output_type": "stream",
          "name": "stdout",
          "text": [
            "[CV 1/2; 15/27] END gradientboostingclassifier__learning_rate=0.05, gradientboostingclassifier__max_depth=5, gradientboostingclassifier__min_samples_leaf=10, gradientboostingclassifier__n_estimators=200;, score=0.866 total time=   8.5s\n",
            "[CV 2/2; 15/27] START gradientboostingclassifier__learning_rate=0.05, gradientboostingclassifier__max_depth=5, gradientboostingclassifier__min_samples_leaf=10, gradientboostingclassifier__n_estimators=200\n"
          ]
        },
        {
          "output_type": "stream",
          "name": "stderr",
          "text": [
            "/usr/local/lib/python3.9/dist-packages/sklearn/preprocessing/_encoders.py:868: FutureWarning: `sparse` was renamed to `sparse_output` in version 1.2 and will be removed in 1.4. `sparse_output` is ignored unless you leave `sparse` to its default value.\n",
            "  warnings.warn(\n"
          ]
        },
        {
          "output_type": "stream",
          "name": "stdout",
          "text": [
            "[CV 2/2; 15/27] END gradientboostingclassifier__learning_rate=0.05, gradientboostingclassifier__max_depth=5, gradientboostingclassifier__min_samples_leaf=10, gradientboostingclassifier__n_estimators=200;, score=0.868 total time=   9.0s\n",
            "[CV 1/2; 16/27] START gradientboostingclassifier__learning_rate=0.05, gradientboostingclassifier__max_depth=7, gradientboostingclassifier__min_samples_leaf=1, gradientboostingclassifier__n_estimators=200\n"
          ]
        },
        {
          "output_type": "stream",
          "name": "stderr",
          "text": [
            "/usr/local/lib/python3.9/dist-packages/sklearn/preprocessing/_encoders.py:868: FutureWarning: `sparse` was renamed to `sparse_output` in version 1.2 and will be removed in 1.4. `sparse_output` is ignored unless you leave `sparse` to its default value.\n",
            "  warnings.warn(\n"
          ]
        },
        {
          "output_type": "stream",
          "name": "stdout",
          "text": [
            "[CV 1/2; 16/27] END gradientboostingclassifier__learning_rate=0.05, gradientboostingclassifier__max_depth=7, gradientboostingclassifier__min_samples_leaf=1, gradientboostingclassifier__n_estimators=200;, score=0.864 total time=  11.0s\n",
            "[CV 2/2; 16/27] START gradientboostingclassifier__learning_rate=0.05, gradientboostingclassifier__max_depth=7, gradientboostingclassifier__min_samples_leaf=1, gradientboostingclassifier__n_estimators=200\n"
          ]
        },
        {
          "output_type": "stream",
          "name": "stderr",
          "text": [
            "/usr/local/lib/python3.9/dist-packages/sklearn/preprocessing/_encoders.py:868: FutureWarning: `sparse` was renamed to `sparse_output` in version 1.2 and will be removed in 1.4. `sparse_output` is ignored unless you leave `sparse` to its default value.\n",
            "  warnings.warn(\n"
          ]
        },
        {
          "output_type": "stream",
          "name": "stdout",
          "text": [
            "[CV 2/2; 16/27] END gradientboostingclassifier__learning_rate=0.05, gradientboostingclassifier__max_depth=7, gradientboostingclassifier__min_samples_leaf=1, gradientboostingclassifier__n_estimators=200;, score=0.866 total time=  11.6s\n",
            "[CV 1/2; 17/27] START gradientboostingclassifier__learning_rate=0.05, gradientboostingclassifier__max_depth=7, gradientboostingclassifier__min_samples_leaf=5, gradientboostingclassifier__n_estimators=200\n"
          ]
        },
        {
          "output_type": "stream",
          "name": "stderr",
          "text": [
            "/usr/local/lib/python3.9/dist-packages/sklearn/preprocessing/_encoders.py:868: FutureWarning: `sparse` was renamed to `sparse_output` in version 1.2 and will be removed in 1.4. `sparse_output` is ignored unless you leave `sparse` to its default value.\n",
            "  warnings.warn(\n"
          ]
        },
        {
          "output_type": "stream",
          "name": "stdout",
          "text": [
            "[CV 1/2; 17/27] END gradientboostingclassifier__learning_rate=0.05, gradientboostingclassifier__max_depth=7, gradientboostingclassifier__min_samples_leaf=5, gradientboostingclassifier__n_estimators=200;, score=0.865 total time=  11.7s\n",
            "[CV 2/2; 17/27] START gradientboostingclassifier__learning_rate=0.05, gradientboostingclassifier__max_depth=7, gradientboostingclassifier__min_samples_leaf=5, gradientboostingclassifier__n_estimators=200\n"
          ]
        },
        {
          "output_type": "stream",
          "name": "stderr",
          "text": [
            "/usr/local/lib/python3.9/dist-packages/sklearn/preprocessing/_encoders.py:868: FutureWarning: `sparse` was renamed to `sparse_output` in version 1.2 and will be removed in 1.4. `sparse_output` is ignored unless you leave `sparse` to its default value.\n",
            "  warnings.warn(\n"
          ]
        },
        {
          "output_type": "stream",
          "name": "stdout",
          "text": [
            "[CV 2/2; 17/27] END gradientboostingclassifier__learning_rate=0.05, gradientboostingclassifier__max_depth=7, gradientboostingclassifier__min_samples_leaf=5, gradientboostingclassifier__n_estimators=200;, score=0.867 total time=  11.7s\n",
            "[CV 1/2; 18/27] START gradientboostingclassifier__learning_rate=0.05, gradientboostingclassifier__max_depth=7, gradientboostingclassifier__min_samples_leaf=10, gradientboostingclassifier__n_estimators=200\n"
          ]
        },
        {
          "output_type": "stream",
          "name": "stderr",
          "text": [
            "/usr/local/lib/python3.9/dist-packages/sklearn/preprocessing/_encoders.py:868: FutureWarning: `sparse` was renamed to `sparse_output` in version 1.2 and will be removed in 1.4. `sparse_output` is ignored unless you leave `sparse` to its default value.\n",
            "  warnings.warn(\n"
          ]
        },
        {
          "output_type": "stream",
          "name": "stdout",
          "text": [
            "[CV 1/2; 18/27] END gradientboostingclassifier__learning_rate=0.05, gradientboostingclassifier__max_depth=7, gradientboostingclassifier__min_samples_leaf=10, gradientboostingclassifier__n_estimators=200;, score=0.866 total time=  11.6s\n",
            "[CV 2/2; 18/27] START gradientboostingclassifier__learning_rate=0.05, gradientboostingclassifier__max_depth=7, gradientboostingclassifier__min_samples_leaf=10, gradientboostingclassifier__n_estimators=200\n"
          ]
        },
        {
          "output_type": "stream",
          "name": "stderr",
          "text": [
            "/usr/local/lib/python3.9/dist-packages/sklearn/preprocessing/_encoders.py:868: FutureWarning: `sparse` was renamed to `sparse_output` in version 1.2 and will be removed in 1.4. `sparse_output` is ignored unless you leave `sparse` to its default value.\n",
            "  warnings.warn(\n"
          ]
        },
        {
          "output_type": "stream",
          "name": "stdout",
          "text": [
            "[CV 2/2; 18/27] END gradientboostingclassifier__learning_rate=0.05, gradientboostingclassifier__max_depth=7, gradientboostingclassifier__min_samples_leaf=10, gradientboostingclassifier__n_estimators=200;, score=0.867 total time=  10.4s\n",
            "[CV 1/2; 19/27] START gradientboostingclassifier__learning_rate=0.01, gradientboostingclassifier__max_depth=3, gradientboostingclassifier__min_samples_leaf=1, gradientboostingclassifier__n_estimators=200\n"
          ]
        },
        {
          "output_type": "stream",
          "name": "stderr",
          "text": [
            "/usr/local/lib/python3.9/dist-packages/sklearn/preprocessing/_encoders.py:868: FutureWarning: `sparse` was renamed to `sparse_output` in version 1.2 and will be removed in 1.4. `sparse_output` is ignored unless you leave `sparse` to its default value.\n",
            "  warnings.warn(\n"
          ]
        },
        {
          "output_type": "stream",
          "name": "stdout",
          "text": [
            "[CV 1/2; 19/27] END gradientboostingclassifier__learning_rate=0.01, gradientboostingclassifier__max_depth=3, gradientboostingclassifier__min_samples_leaf=1, gradientboostingclassifier__n_estimators=200;, score=0.844 total time=   6.1s\n",
            "[CV 2/2; 19/27] START gradientboostingclassifier__learning_rate=0.01, gradientboostingclassifier__max_depth=3, gradientboostingclassifier__min_samples_leaf=1, gradientboostingclassifier__n_estimators=200\n"
          ]
        },
        {
          "output_type": "stream",
          "name": "stderr",
          "text": [
            "/usr/local/lib/python3.9/dist-packages/sklearn/preprocessing/_encoders.py:868: FutureWarning: `sparse` was renamed to `sparse_output` in version 1.2 and will be removed in 1.4. `sparse_output` is ignored unless you leave `sparse` to its default value.\n",
            "  warnings.warn(\n"
          ]
        },
        {
          "output_type": "stream",
          "name": "stdout",
          "text": [
            "[CV 2/2; 19/27] END gradientboostingclassifier__learning_rate=0.01, gradientboostingclassifier__max_depth=3, gradientboostingclassifier__min_samples_leaf=1, gradientboostingclassifier__n_estimators=200;, score=0.845 total time=   5.0s\n",
            "[CV 1/2; 20/27] START gradientboostingclassifier__learning_rate=0.01, gradientboostingclassifier__max_depth=3, gradientboostingclassifier__min_samples_leaf=5, gradientboostingclassifier__n_estimators=200\n"
          ]
        },
        {
          "output_type": "stream",
          "name": "stderr",
          "text": [
            "/usr/local/lib/python3.9/dist-packages/sklearn/preprocessing/_encoders.py:868: FutureWarning: `sparse` was renamed to `sparse_output` in version 1.2 and will be removed in 1.4. `sparse_output` is ignored unless you leave `sparse` to its default value.\n",
            "  warnings.warn(\n"
          ]
        },
        {
          "output_type": "stream",
          "name": "stdout",
          "text": [
            "[CV 1/2; 20/27] END gradientboostingclassifier__learning_rate=0.01, gradientboostingclassifier__max_depth=3, gradientboostingclassifier__min_samples_leaf=5, gradientboostingclassifier__n_estimators=200;, score=0.844 total time=   6.1s\n",
            "[CV 2/2; 20/27] START gradientboostingclassifier__learning_rate=0.01, gradientboostingclassifier__max_depth=3, gradientboostingclassifier__min_samples_leaf=5, gradientboostingclassifier__n_estimators=200\n"
          ]
        },
        {
          "output_type": "stream",
          "name": "stderr",
          "text": [
            "/usr/local/lib/python3.9/dist-packages/sklearn/preprocessing/_encoders.py:868: FutureWarning: `sparse` was renamed to `sparse_output` in version 1.2 and will be removed in 1.4. `sparse_output` is ignored unless you leave `sparse` to its default value.\n",
            "  warnings.warn(\n"
          ]
        },
        {
          "output_type": "stream",
          "name": "stdout",
          "text": [
            "[CV 2/2; 20/27] END gradientboostingclassifier__learning_rate=0.01, gradientboostingclassifier__max_depth=3, gradientboostingclassifier__min_samples_leaf=5, gradientboostingclassifier__n_estimators=200;, score=0.845 total time=   5.2s\n",
            "[CV 1/2; 21/27] START gradientboostingclassifier__learning_rate=0.01, gradientboostingclassifier__max_depth=3, gradientboostingclassifier__min_samples_leaf=10, gradientboostingclassifier__n_estimators=200\n"
          ]
        },
        {
          "output_type": "stream",
          "name": "stderr",
          "text": [
            "/usr/local/lib/python3.9/dist-packages/sklearn/preprocessing/_encoders.py:868: FutureWarning: `sparse` was renamed to `sparse_output` in version 1.2 and will be removed in 1.4. `sparse_output` is ignored unless you leave `sparse` to its default value.\n",
            "  warnings.warn(\n"
          ]
        },
        {
          "output_type": "stream",
          "name": "stdout",
          "text": [
            "[CV 1/2; 21/27] END gradientboostingclassifier__learning_rate=0.01, gradientboostingclassifier__max_depth=3, gradientboostingclassifier__min_samples_leaf=10, gradientboostingclassifier__n_estimators=200;, score=0.844 total time=   5.0s\n",
            "[CV 2/2; 21/27] START gradientboostingclassifier__learning_rate=0.01, gradientboostingclassifier__max_depth=3, gradientboostingclassifier__min_samples_leaf=10, gradientboostingclassifier__n_estimators=200\n"
          ]
        },
        {
          "output_type": "stream",
          "name": "stderr",
          "text": [
            "/usr/local/lib/python3.9/dist-packages/sklearn/preprocessing/_encoders.py:868: FutureWarning: `sparse` was renamed to `sparse_output` in version 1.2 and will be removed in 1.4. `sparse_output` is ignored unless you leave `sparse` to its default value.\n",
            "  warnings.warn(\n"
          ]
        },
        {
          "output_type": "stream",
          "name": "stdout",
          "text": [
            "[CV 2/2; 21/27] END gradientboostingclassifier__learning_rate=0.01, gradientboostingclassifier__max_depth=3, gradientboostingclassifier__min_samples_leaf=10, gradientboostingclassifier__n_estimators=200;, score=0.845 total time=   6.4s\n",
            "[CV 1/2; 22/27] START gradientboostingclassifier__learning_rate=0.01, gradientboostingclassifier__max_depth=5, gradientboostingclassifier__min_samples_leaf=1, gradientboostingclassifier__n_estimators=200\n"
          ]
        },
        {
          "output_type": "stream",
          "name": "stderr",
          "text": [
            "/usr/local/lib/python3.9/dist-packages/sklearn/preprocessing/_encoders.py:868: FutureWarning: `sparse` was renamed to `sparse_output` in version 1.2 and will be removed in 1.4. `sparse_output` is ignored unless you leave `sparse` to its default value.\n",
            "  warnings.warn(\n"
          ]
        },
        {
          "output_type": "stream",
          "name": "stdout",
          "text": [
            "[CV 1/2; 22/27] END gradientboostingclassifier__learning_rate=0.01, gradientboostingclassifier__max_depth=5, gradientboostingclassifier__min_samples_leaf=1, gradientboostingclassifier__n_estimators=200;, score=0.854 total time=   7.4s\n",
            "[CV 2/2; 22/27] START gradientboostingclassifier__learning_rate=0.01, gradientboostingclassifier__max_depth=5, gradientboostingclassifier__min_samples_leaf=1, gradientboostingclassifier__n_estimators=200\n"
          ]
        },
        {
          "output_type": "stream",
          "name": "stderr",
          "text": [
            "/usr/local/lib/python3.9/dist-packages/sklearn/preprocessing/_encoders.py:868: FutureWarning: `sparse` was renamed to `sparse_output` in version 1.2 and will be removed in 1.4. `sparse_output` is ignored unless you leave `sparse` to its default value.\n",
            "  warnings.warn(\n"
          ]
        },
        {
          "output_type": "stream",
          "name": "stdout",
          "text": [
            "[CV 2/2; 22/27] END gradientboostingclassifier__learning_rate=0.01, gradientboostingclassifier__max_depth=5, gradientboostingclassifier__min_samples_leaf=1, gradientboostingclassifier__n_estimators=200;, score=0.860 total time=   8.8s\n",
            "[CV 1/2; 23/27] START gradientboostingclassifier__learning_rate=0.01, gradientboostingclassifier__max_depth=5, gradientboostingclassifier__min_samples_leaf=5, gradientboostingclassifier__n_estimators=200\n"
          ]
        },
        {
          "output_type": "stream",
          "name": "stderr",
          "text": [
            "/usr/local/lib/python3.9/dist-packages/sklearn/preprocessing/_encoders.py:868: FutureWarning: `sparse` was renamed to `sparse_output` in version 1.2 and will be removed in 1.4. `sparse_output` is ignored unless you leave `sparse` to its default value.\n",
            "  warnings.warn(\n"
          ]
        },
        {
          "output_type": "stream",
          "name": "stdout",
          "text": [
            "[CV 1/2; 23/27] END gradientboostingclassifier__learning_rate=0.01, gradientboostingclassifier__max_depth=5, gradientboostingclassifier__min_samples_leaf=5, gradientboostingclassifier__n_estimators=200;, score=0.855 total time=   7.8s\n",
            "[CV 2/2; 23/27] START gradientboostingclassifier__learning_rate=0.01, gradientboostingclassifier__max_depth=5, gradientboostingclassifier__min_samples_leaf=5, gradientboostingclassifier__n_estimators=200\n"
          ]
        },
        {
          "output_type": "stream",
          "name": "stderr",
          "text": [
            "/usr/local/lib/python3.9/dist-packages/sklearn/preprocessing/_encoders.py:868: FutureWarning: `sparse` was renamed to `sparse_output` in version 1.2 and will be removed in 1.4. `sparse_output` is ignored unless you leave `sparse` to its default value.\n",
            "  warnings.warn(\n"
          ]
        },
        {
          "output_type": "stream",
          "name": "stdout",
          "text": [
            "[CV 2/2; 23/27] END gradientboostingclassifier__learning_rate=0.01, gradientboostingclassifier__max_depth=5, gradientboostingclassifier__min_samples_leaf=5, gradientboostingclassifier__n_estimators=200;, score=0.860 total time=   8.6s\n",
            "[CV 1/2; 24/27] START gradientboostingclassifier__learning_rate=0.01, gradientboostingclassifier__max_depth=5, gradientboostingclassifier__min_samples_leaf=10, gradientboostingclassifier__n_estimators=200\n"
          ]
        },
        {
          "output_type": "stream",
          "name": "stderr",
          "text": [
            "/usr/local/lib/python3.9/dist-packages/sklearn/preprocessing/_encoders.py:868: FutureWarning: `sparse` was renamed to `sparse_output` in version 1.2 and will be removed in 1.4. `sparse_output` is ignored unless you leave `sparse` to its default value.\n",
            "  warnings.warn(\n"
          ]
        },
        {
          "output_type": "stream",
          "name": "stdout",
          "text": [
            "[CV 1/2; 24/27] END gradientboostingclassifier__learning_rate=0.01, gradientboostingclassifier__max_depth=5, gradientboostingclassifier__min_samples_leaf=10, gradientboostingclassifier__n_estimators=200;, score=0.854 total time=   8.4s\n",
            "[CV 2/2; 24/27] START gradientboostingclassifier__learning_rate=0.01, gradientboostingclassifier__max_depth=5, gradientboostingclassifier__min_samples_leaf=10, gradientboostingclassifier__n_estimators=200\n"
          ]
        },
        {
          "output_type": "stream",
          "name": "stderr",
          "text": [
            "/usr/local/lib/python3.9/dist-packages/sklearn/preprocessing/_encoders.py:868: FutureWarning: `sparse` was renamed to `sparse_output` in version 1.2 and will be removed in 1.4. `sparse_output` is ignored unless you leave `sparse` to its default value.\n",
            "  warnings.warn(\n"
          ]
        },
        {
          "output_type": "stream",
          "name": "stdout",
          "text": [
            "[CV 2/2; 24/27] END gradientboostingclassifier__learning_rate=0.01, gradientboostingclassifier__max_depth=5, gradientboostingclassifier__min_samples_leaf=10, gradientboostingclassifier__n_estimators=200;, score=0.861 total time=   7.8s\n",
            "[CV 1/2; 25/27] START gradientboostingclassifier__learning_rate=0.01, gradientboostingclassifier__max_depth=7, gradientboostingclassifier__min_samples_leaf=1, gradientboostingclassifier__n_estimators=200\n"
          ]
        },
        {
          "output_type": "stream",
          "name": "stderr",
          "text": [
            "/usr/local/lib/python3.9/dist-packages/sklearn/preprocessing/_encoders.py:868: FutureWarning: `sparse` was renamed to `sparse_output` in version 1.2 and will be removed in 1.4. `sparse_output` is ignored unless you leave `sparse` to its default value.\n",
            "  warnings.warn(\n"
          ]
        },
        {
          "output_type": "stream",
          "name": "stdout",
          "text": [
            "[CV 1/2; 25/27] END gradientboostingclassifier__learning_rate=0.01, gradientboostingclassifier__max_depth=7, gradientboostingclassifier__min_samples_leaf=1, gradientboostingclassifier__n_estimators=200;, score=0.860 total time=  11.3s\n",
            "[CV 2/2; 25/27] START gradientboostingclassifier__learning_rate=0.01, gradientboostingclassifier__max_depth=7, gradientboostingclassifier__min_samples_leaf=1, gradientboostingclassifier__n_estimators=200\n"
          ]
        },
        {
          "output_type": "stream",
          "name": "stderr",
          "text": [
            "/usr/local/lib/python3.9/dist-packages/sklearn/preprocessing/_encoders.py:868: FutureWarning: `sparse` was renamed to `sparse_output` in version 1.2 and will be removed in 1.4. `sparse_output` is ignored unless you leave `sparse` to its default value.\n",
            "  warnings.warn(\n"
          ]
        },
        {
          "output_type": "stream",
          "name": "stdout",
          "text": [
            "[CV 2/2; 25/27] END gradientboostingclassifier__learning_rate=0.01, gradientboostingclassifier__max_depth=7, gradientboostingclassifier__min_samples_leaf=1, gradientboostingclassifier__n_estimators=200;, score=0.865 total time=  11.4s\n",
            "[CV 1/2; 26/27] START gradientboostingclassifier__learning_rate=0.01, gradientboostingclassifier__max_depth=7, gradientboostingclassifier__min_samples_leaf=5, gradientboostingclassifier__n_estimators=200\n"
          ]
        },
        {
          "output_type": "stream",
          "name": "stderr",
          "text": [
            "/usr/local/lib/python3.9/dist-packages/sklearn/preprocessing/_encoders.py:868: FutureWarning: `sparse` was renamed to `sparse_output` in version 1.2 and will be removed in 1.4. `sparse_output` is ignored unless you leave `sparse` to its default value.\n",
            "  warnings.warn(\n"
          ]
        },
        {
          "output_type": "stream",
          "name": "stdout",
          "text": [
            "[CV 1/2; 26/27] END gradientboostingclassifier__learning_rate=0.01, gradientboostingclassifier__max_depth=7, gradientboostingclassifier__min_samples_leaf=5, gradientboostingclassifier__n_estimators=200;, score=0.859 total time=   9.8s\n",
            "[CV 2/2; 26/27] START gradientboostingclassifier__learning_rate=0.01, gradientboostingclassifier__max_depth=7, gradientboostingclassifier__min_samples_leaf=5, gradientboostingclassifier__n_estimators=200\n"
          ]
        },
        {
          "output_type": "stream",
          "name": "stderr",
          "text": [
            "/usr/local/lib/python3.9/dist-packages/sklearn/preprocessing/_encoders.py:868: FutureWarning: `sparse` was renamed to `sparse_output` in version 1.2 and will be removed in 1.4. `sparse_output` is ignored unless you leave `sparse` to its default value.\n",
            "  warnings.warn(\n"
          ]
        },
        {
          "output_type": "stream",
          "name": "stdout",
          "text": [
            "[CV 2/2; 26/27] END gradientboostingclassifier__learning_rate=0.01, gradientboostingclassifier__max_depth=7, gradientboostingclassifier__min_samples_leaf=5, gradientboostingclassifier__n_estimators=200;, score=0.864 total time=  11.2s\n",
            "[CV 1/2; 27/27] START gradientboostingclassifier__learning_rate=0.01, gradientboostingclassifier__max_depth=7, gradientboostingclassifier__min_samples_leaf=10, gradientboostingclassifier__n_estimators=200\n"
          ]
        },
        {
          "output_type": "stream",
          "name": "stderr",
          "text": [
            "/usr/local/lib/python3.9/dist-packages/sklearn/preprocessing/_encoders.py:868: FutureWarning: `sparse` was renamed to `sparse_output` in version 1.2 and will be removed in 1.4. `sparse_output` is ignored unless you leave `sparse` to its default value.\n",
            "  warnings.warn(\n"
          ]
        },
        {
          "output_type": "stream",
          "name": "stdout",
          "text": [
            "[CV 1/2; 27/27] END gradientboostingclassifier__learning_rate=0.01, gradientboostingclassifier__max_depth=7, gradientboostingclassifier__min_samples_leaf=10, gradientboostingclassifier__n_estimators=200;, score=0.859 total time=  11.1s\n",
            "[CV 2/2; 27/27] START gradientboostingclassifier__learning_rate=0.01, gradientboostingclassifier__max_depth=7, gradientboostingclassifier__min_samples_leaf=10, gradientboostingclassifier__n_estimators=200\n"
          ]
        },
        {
          "output_type": "stream",
          "name": "stderr",
          "text": [
            "/usr/local/lib/python3.9/dist-packages/sklearn/preprocessing/_encoders.py:868: FutureWarning: `sparse` was renamed to `sparse_output` in version 1.2 and will be removed in 1.4. `sparse_output` is ignored unless you leave `sparse` to its default value.\n",
            "  warnings.warn(\n"
          ]
        },
        {
          "output_type": "stream",
          "name": "stdout",
          "text": [
            "[CV 2/2; 27/27] END gradientboostingclassifier__learning_rate=0.01, gradientboostingclassifier__max_depth=7, gradientboostingclassifier__min_samples_leaf=10, gradientboostingclassifier__n_estimators=200;, score=0.864 total time=  11.1s\n",
            "Model tuning took 456.02128171920776 sec\n",
            "\n",
            "Results:\n",
            "gradientboostingclassifier__learning_rate: 0.05\n",
            "gradientboostingclassifier__max_depth: 5\n",
            "gradientboostingclassifier__min_samples_leaf: 1\n",
            "gradientboostingclassifier__n_estimators: 200\n"
          ]
        }
      ],
      "source": [
        "params={'gradientboostingclassifier__learning_rate':[0.1, 0.05, 0.01],\n",
        "        'gradientboostingclassifier__n_estimators':[200],\n",
        "        'gradientboostingclassifier__min_samples_leaf':[1, 5, 10],\n",
        "        'gradientboostingclassifier__max_depth':[3, 5, 7]\n",
        "        }\n",
        "\n",
        "grid = GridSearchCV(pipe,\n",
        "                    param_grid=params,\n",
        "                    cv=2,\n",
        "                    refit=False,\n",
        "                    verbose=27\n",
        "                   )\n",
        "\n",
        "t1 = time.time()\n",
        "search = grid.fit(X_new, y_new)\n",
        "t2 = time.time()\n",
        "\n",
        "results = search.best_params_\n",
        "\n",
        "print(f'Model tuning took {t2-t1} sec\\n\\nResults:')\n",
        "for parameter in results:\n",
        "    print(f'{parameter}: {results[parameter]}')"
      ]
    },
    {
      "cell_type": "markdown",
      "id": "13de8643",
      "metadata": {
        "id": "13de8643"
      },
      "source": [
        "## Обучим модель для лучших значений гиперпараметров"
      ]
    },
    {
      "cell_type": "code",
      "execution_count": 30,
      "id": "396a50e1",
      "metadata": {
        "colab": {
          "base_uri": "https://localhost:8080/"
        },
        "id": "396a50e1",
        "outputId": "e0d60b89-7fc1-4aaf-d34d-b722ffc576ac"
      },
      "outputs": [
        {
          "output_type": "stream",
          "name": "stderr",
          "text": [
            "/usr/local/lib/python3.9/dist-packages/sklearn/preprocessing/_encoders.py:868: FutureWarning: `sparse` was renamed to `sparse_output` in version 1.2 and will be removed in 1.4. `sparse_output` is ignored unless you leave `sparse` to its default value.\n",
            "  warnings.warn(\n",
            "/usr/local/lib/python3.9/dist-packages/sklearn/preprocessing/_encoders.py:868: FutureWarning: `sparse` was renamed to `sparse_output` in version 1.2 and will be removed in 1.4. `sparse_output` is ignored unless you leave `sparse` to its default value.\n",
            "  warnings.warn(\n",
            "/usr/local/lib/python3.9/dist-packages/sklearn/preprocessing/_encoders.py:868: FutureWarning: `sparse` was renamed to `sparse_output` in version 1.2 and will be removed in 1.4. `sparse_output` is ignored unless you leave `sparse` to its default value.\n",
            "  warnings.warn(\n",
            "/usr/local/lib/python3.9/dist-packages/sklearn/preprocessing/_encoders.py:868: FutureWarning: `sparse` was renamed to `sparse_output` in version 1.2 and will be removed in 1.4. `sparse_output` is ignored unless you leave `sparse` to its default value.\n",
            "  warnings.warn(\n"
          ]
        },
        {
          "output_type": "execute_result",
          "data": {
            "text/plain": [
              "0.8471090916003515"
            ]
          },
          "metadata": {},
          "execution_count": 30
        }
      ],
      "source": [
        "gbc = GradientBoostingClassifier(random_state=42, learning_rate=0.05, n_estimators=200, min_samples_leaf=1, max_depth=5)\n",
        "\n",
        "pipe = make_pipeline(ct, gbc)\n",
        "pipe.fit(X_train, y_train)\n",
        "\n",
        "cv_score = cross_val_score(pipe, X_test, y_test, cv=3, scoring='f1_weighted')\n",
        "cv_score.mean()"
      ]
    },
    {
      "cell_type": "markdown",
      "id": "a76f5ee7",
      "metadata": {
        "id": "a76f5ee7"
      },
      "source": [
        "## Сохранение модели в pickle формате"
      ]
    },
    {
      "cell_type": "code",
      "execution_count": 32,
      "id": "95667988",
      "metadata": {
        "id": "95667988"
      },
      "outputs": [],
      "source": [
        "filename = 'model.pkl'\n",
        "pickle.dump(pipe, open(filename, 'wb'))"
      ]
    },
    {
      "cell_type": "code",
      "execution_count": null,
      "id": "e9362df9",
      "metadata": {
        "id": "e9362df9"
      },
      "outputs": [],
      "source": []
    }
  ],
  "metadata": {
    "kernelspec": {
      "display_name": "Python 3 (ipykernel)",
      "language": "python",
      "name": "python3"
    },
    "language_info": {
      "codemirror_mode": {
        "name": "ipython",
        "version": 3
      },
      "file_extension": ".py",
      "mimetype": "text/x-python",
      "name": "python",
      "nbconvert_exporter": "python",
      "pygments_lexer": "ipython3",
      "version": "3.9.12"
    },
    "colab": {
      "provenance": []
    }
  },
  "nbformat": 4,
  "nbformat_minor": 5
}